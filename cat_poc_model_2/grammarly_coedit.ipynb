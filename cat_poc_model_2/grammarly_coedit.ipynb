{
 "cells": [
  {
   "cell_type": "code",
   "execution_count": null,
   "metadata": {},
   "outputs": [],
   "source": [
    "from transformers import AutoTokenizer, T5ForConditionalGeneration\n",
    "from transformers import AutoModelForCausalLM, AutoTokenizer\n",
    "\n",
    "# tokenizer = AutoTokenizer.from_pretrained(\"grammarly/coedit-xxl\")\n",
    "# model = T5ForConditionalGeneration.from_pretrained(\"grammarly/coedit-xxl\")\n",
    "\n",
    "# pip install transformers accelerate bitsandbytes\n",
    "model_id = \"bigscience/bloom-1b7\"\n",
    "tokenizer = AutoTokenizer.from_pretrained(model_id)\n",
    "model = AutoModelForCausalLM.from_pretrained(model_id, device_map=\"auto\", load_in_8bit=True)\n",
    "print(model.get_memory_footprint())\n",
    "\n",
    "# input_text = 'Fix grammatical errors in this sentence: When I grow up, I start to understand what he said is quite right.'\n",
    "# input_ids = tokenizer(input_text, return_tensors=\"pt\").input_ids\n",
    "# outputs = model.generate(input_ids, max_length=256)\n",
    "# edited_text = tokenizer.decode(outputs[0], skip_special_tokens=True)\n"
   ]
  },
  {
   "cell_type": "code",
   "execution_count": null,
   "metadata": {},
   "outputs": [],
   "source": []
  }
 ],
 "metadata": {
  "kernelspec": {
   "display_name": "Python 3.10.10 ('pytorch')",
   "language": "python",
   "name": "python3"
  },
  "language_info": {
   "codemirror_mode": {
    "name": "ipython",
    "version": 3
   },
   "file_extension": ".py",
   "mimetype": "text/x-python",
   "name": "python",
   "nbconvert_exporter": "python",
   "pygments_lexer": "ipython3",
   "version": "3.10.10"
  },
  "orig_nbformat": 4,
  "vscode": {
   "interpreter": {
    "hash": "2d58e898dde0263bc564c6968b04150abacfd33eed9b19aaa8e45c040360e146"
   }
  }
 },
 "nbformat": 4,
 "nbformat_minor": 2
}
