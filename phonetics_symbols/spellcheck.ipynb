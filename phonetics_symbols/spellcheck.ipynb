{
 "cells": [
  {
   "cell_type": "code",
   "execution_count": 3,
   "metadata": {},
   "outputs": [
    {
     "name": "stdout",
     "output_type": "stream",
     "text": [
      "Misspelled words:\n",
      "seing\n"
     ]
    }
   ],
   "source": [
    "from spellchecker import SpellChecker\n",
    "\n",
    "def spell_check_document(document_path):\n",
    "    spell = SpellChecker()\n",
    "    with open(document_path, 'r') as file:\n",
    "        document_text = file.read()\n",
    "    document_text = \"what are you doing ? seing\"\n",
    "    words = document_text.split()\n",
    "    misspelled_words = spell.unknown(words)\n",
    "    if len(misspelled_words) > 0:\n",
    "        print(\"Misspelled words:\")\n",
    "        for misspelled_word in misspelled_words:\n",
    "            print(misspelled_word)\n",
    "    else:\n",
    "        print(\"No misspelled words found.\")\n",
    "\n",
    "# Example usage\n",
    "document_path = './doc.txt'\n",
    "spell_check_document(document_path)\n"
   ]
  },
  {
   "cell_type": "code",
   "execution_count": 1,
   "metadata": {},
   "outputs": [
    {
     "ename": "DeprecationError",
     "evalue": "PdfFileReader is deprecated and was removed in PyPDF2 3.0.0. Use PdfReader instead.",
     "output_type": "error",
     "traceback": [
      "\u001b[0;31m---------------------------------------------------------------------------\u001b[0m",
      "\u001b[0;31mDeprecationError\u001b[0m                          Traceback (most recent call last)",
      "Cell \u001b[0;32mIn[1], line 29\u001b[0m\n\u001b[1;32m     27\u001b[0m \u001b[38;5;66;03m# Example usage\u001b[39;00m\n\u001b[1;32m     28\u001b[0m pdf_path \u001b[38;5;241m=\u001b[39m \u001b[38;5;124m'\u001b[39m\u001b[38;5;124m/home/ubuntu/ritesh_manchikanti/phonetics_symbols/15031-4983-FullBook.pdf\u001b[39m\u001b[38;5;124m'\u001b[39m\n\u001b[0;32m---> 29\u001b[0m \u001b[43mspell_check_document\u001b[49m\u001b[43m(\u001b[49m\u001b[43mpdf_path\u001b[49m\u001b[43m)\u001b[49m\n",
      "Cell \u001b[0;32mIn[1], line 16\u001b[0m, in \u001b[0;36mspell_check_document\u001b[0;34m(pdf_path)\u001b[0m\n\u001b[1;32m     14\u001b[0m \u001b[38;5;28;01mdef\u001b[39;00m \u001b[38;5;21mspell_check_document\u001b[39m(pdf_path):\n\u001b[1;32m     15\u001b[0m     spell \u001b[38;5;241m=\u001b[39m SpellChecker()\n\u001b[0;32m---> 16\u001b[0m     document_text \u001b[38;5;241m=\u001b[39m \u001b[43mextract_text_from_pdf\u001b[49m\u001b[43m(\u001b[49m\u001b[43mpdf_path\u001b[49m\u001b[43m)\u001b[49m\n\u001b[1;32m     17\u001b[0m     \u001b[38;5;28mprint\u001b[39m(\u001b[38;5;28mlen\u001b[39m(document_text))\n\u001b[1;32m     18\u001b[0m     words \u001b[38;5;241m=\u001b[39m document_text\u001b[38;5;241m.\u001b[39msplit()\n",
      "Cell \u001b[0;32mIn[1], line 7\u001b[0m, in \u001b[0;36mextract_text_from_pdf\u001b[0;34m(pdf_path)\u001b[0m\n\u001b[1;32m      5\u001b[0m text \u001b[38;5;241m=\u001b[39m \u001b[38;5;124m\"\u001b[39m\u001b[38;5;124m\"\u001b[39m\n\u001b[1;32m      6\u001b[0m \u001b[38;5;28;01mwith\u001b[39;00m \u001b[38;5;28mopen\u001b[39m(pdf_path, \u001b[38;5;124m'\u001b[39m\u001b[38;5;124mrb\u001b[39m\u001b[38;5;124m'\u001b[39m) \u001b[38;5;28;01mas\u001b[39;00m file:\n\u001b[0;32m----> 7\u001b[0m     reader \u001b[38;5;241m=\u001b[39m \u001b[43mPyPDF2\u001b[49m\u001b[38;5;241;43m.\u001b[39;49m\u001b[43mPdfFileReader\u001b[49m\u001b[43m(\u001b[49m\u001b[43mfile\u001b[49m\u001b[43m)\u001b[49m\n\u001b[1;32m      8\u001b[0m     num_pages \u001b[38;5;241m=\u001b[39m reader\u001b[38;5;241m.\u001b[39mnumPages\n\u001b[1;32m      9\u001b[0m     \u001b[38;5;28;01mfor\u001b[39;00m page \u001b[38;5;129;01min\u001b[39;00m \u001b[38;5;28mrange\u001b[39m(num_pages):\n",
      "File \u001b[0;32m/opt/conda/envs/pytorch/lib/python3.10/site-packages/PyPDF2/_reader.py:1974\u001b[0m, in \u001b[0;36mPdfFileReader.__init__\u001b[0;34m(self, *args, **kwargs)\u001b[0m\n\u001b[1;32m   1973\u001b[0m \u001b[39mdef\u001b[39;00m \u001b[39m__init__\u001b[39m(\u001b[39mself\u001b[39m, \u001b[39m*\u001b[39margs: Any, \u001b[39m*\u001b[39m\u001b[39m*\u001b[39mkwargs: Any) \u001b[39m-\u001b[39m\u001b[39m>\u001b[39m \u001b[39mNone\u001b[39;00m:\n\u001b[0;32m-> 1974\u001b[0m     deprecation_with_replacement(\u001b[39m\"\u001b[39;49m\u001b[39mPdfFileReader\u001b[39;49m\u001b[39m\"\u001b[39;49m, \u001b[39m\"\u001b[39;49m\u001b[39mPdfReader\u001b[39;49m\u001b[39m\"\u001b[39;49m, \u001b[39m\"\u001b[39;49m\u001b[39m3.0.0\u001b[39;49m\u001b[39m\"\u001b[39;49m)\n\u001b[1;32m   1975\u001b[0m     \u001b[39mif\u001b[39;00m \u001b[39m\"\u001b[39m\u001b[39mstrict\u001b[39m\u001b[39m\"\u001b[39m \u001b[39mnot\u001b[39;00m \u001b[39min\u001b[39;00m kwargs \u001b[39mand\u001b[39;00m \u001b[39mlen\u001b[39m(args) \u001b[39m<\u001b[39m \u001b[39m2\u001b[39m:\n\u001b[1;32m   1976\u001b[0m         kwargs[\u001b[39m\"\u001b[39m\u001b[39mstrict\u001b[39m\u001b[39m\"\u001b[39m] \u001b[39m=\u001b[39m \u001b[39mTrue\u001b[39;00m  \u001b[39m# maintain the default\u001b[39;00m\n",
      "File \u001b[0;32m/opt/conda/envs/pytorch/lib/python3.10/site-packages/PyPDF2/_utils.py:369\u001b[0m, in \u001b[0;36mdeprecation_with_replacement\u001b[0;34m(old_name, new_name, removed_in)\u001b[0m\n\u001b[1;32m    363\u001b[0m \u001b[39mdef\u001b[39;00m \u001b[39mdeprecation_with_replacement\u001b[39m(\n\u001b[1;32m    364\u001b[0m     old_name: \u001b[39mstr\u001b[39m, new_name: \u001b[39mstr\u001b[39m, removed_in: \u001b[39mstr\u001b[39m \u001b[39m=\u001b[39m \u001b[39m\"\u001b[39m\u001b[39m3.0.0\u001b[39m\u001b[39m\"\u001b[39m\n\u001b[1;32m    365\u001b[0m ) \u001b[39m-\u001b[39m\u001b[39m>\u001b[39m \u001b[39mNone\u001b[39;00m:\n\u001b[1;32m    366\u001b[0m \u001b[39m    \u001b[39m\u001b[39m\"\"\"\u001b[39;00m\n\u001b[1;32m    367\u001b[0m \u001b[39m    Raise an exception that a feature was already removed, but has a replacement.\u001b[39;00m\n\u001b[1;32m    368\u001b[0m \u001b[39m    \"\"\"\u001b[39;00m\n\u001b[0;32m--> 369\u001b[0m     deprecation(DEPR_MSG_HAPPENED\u001b[39m.\u001b[39;49mformat(old_name, removed_in, new_name))\n",
      "File \u001b[0;32m/opt/conda/envs/pytorch/lib/python3.10/site-packages/PyPDF2/_utils.py:351\u001b[0m, in \u001b[0;36mdeprecation\u001b[0;34m(msg)\u001b[0m\n\u001b[1;32m    350\u001b[0m \u001b[39mdef\u001b[39;00m \u001b[39mdeprecation\u001b[39m(msg: \u001b[39mstr\u001b[39m) \u001b[39m-\u001b[39m\u001b[39m>\u001b[39m \u001b[39mNone\u001b[39;00m:\n\u001b[0;32m--> 351\u001b[0m     \u001b[39mraise\u001b[39;00m DeprecationError(msg)\n",
      "\u001b[0;31mDeprecationError\u001b[0m: PdfFileReader is deprecated and was removed in PyPDF2 3.0.0. Use PdfReader instead."
     ]
    }
   ],
   "source": [
    "import PyPDF2\n",
    "from spellchecker import SpellChecker\n",
    "\n",
    "def extract_text_from_pdf(pdf_path):\n",
    "    text = \"\"\n",
    "    with open(pdf_path, 'rb') as file:\n",
    "        reader = PyPDF2.PdfFileReader(file)\n",
    "        num_pages = reader.numPages\n",
    "        for page in range(num_pages):\n",
    "            page_obj = reader.getPage(page)\n",
    "            text += page_obj.extractText()\n",
    "    return text\n",
    "\n",
    "def spell_check_document(pdf_path):\n",
    "    spell = SpellChecker()\n",
    "    document_text = extract_text_from_pdf(pdf_path)\n",
    "    print(len(document_text))\n",
    "    words = document_text.split()\n",
    "    misspelled_words = spell.unknown(words)\n",
    "    if len(misspelled_words) > 0:\n",
    "        print(\"Misspelled words:\")\n",
    "        for misspelled_word in misspelled_words:\n",
    "            print(misspelled_word)\n",
    "    else:\n",
    "        print(\"No misspelled words found.\")\n",
    "\n",
    "# Example usage\n",
    "pdf_path = '/home/ubuntu/ritesh_manchikanti/phonetics_symbols/15031-4983-FullBook.pdf'\n",
    "spell_check_document(pdf_path)\n"
   ]
  },
  {
   "cell_type": "code",
   "execution_count": null,
   "metadata": {},
   "outputs": [],
   "source": []
  }
 ],
 "metadata": {
  "kernelspec": {
   "display_name": "Python 3.10.10 ('pytorch')",
   "language": "python",
   "name": "python3"
  },
  "language_info": {
   "codemirror_mode": {
    "name": "ipython",
    "version": 3
   },
   "file_extension": ".py",
   "mimetype": "text/x-python",
   "name": "python",
   "nbconvert_exporter": "python",
   "pygments_lexer": "ipython3",
   "version": "3.10.10"
  },
  "orig_nbformat": 4,
  "vscode": {
   "interpreter": {
    "hash": "2d58e898dde0263bc564c6968b04150abacfd33eed9b19aaa8e45c040360e146"
   }
  }
 },
 "nbformat": 4,
 "nbformat_minor": 2
}
