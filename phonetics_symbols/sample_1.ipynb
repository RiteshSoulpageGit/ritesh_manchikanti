{
 "cells": [
  {
   "cell_type": "code",
   "execution_count": null,
   "metadata": {},
   "outputs": [],
   "source": [
    "from docx import Document\n",
    "\n",
    "def count_phonetics_symbols(docx_file):\n",
    "    doc = Document(docx_file)\n",
    "    phonetics_count = 0\n",
    "    symbols_count = 0\n",
    "\n",
    "    for paragraph in doc.paragraphs:\n",
    "        for run in paragraph.runs:\n",
    "            if run.phonetic_guide:\n",
    "                phonetics_count += 1\n",
    "            if run.symbol:\n",
    "                symbols_count += 1\n",
    "\n",
    "    return phonetics_count, symbols_count\n",
    "\n",
    "# Example usage\n",
    "docx_file_path = \"./15031-4983-FullBook.docx\"\n",
    "phonetics, symbols = count_phonetics_symbols(docx_file_path)\n",
    "print(\"Phonetics count:\", phonetics)\n",
    "print(\"Symbols count:\", symbols)\n"
   ]
  },
  {
   "cell_type": "code",
   "execution_count": null,
   "metadata": {},
   "outputs": [],
   "source": []
  }
 ],
 "metadata": {
  "language_info": {
   "name": "python"
  },
  "orig_nbformat": 4
 },
 "nbformat": 4,
 "nbformat_minor": 2
}
