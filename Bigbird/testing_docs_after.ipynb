{
 "cells": [
  {
   "cell_type": "code",
   "execution_count": 1,
   "metadata": {},
   "outputs": [
    {
     "name": "stderr",
     "output_type": "stream",
     "text": [
      "Some weights of the model checkpoint at ./savedmodel_2 were not used when initializing BigBirdModel: ['classifier.dense.weight', 'classifier.out_proj.weight', 'classifier.out_proj.bias', 'classifier.dense.bias']\n",
      "- This IS expected if you are initializing BigBirdModel from the checkpoint of a model trained on another task or with another architecture (e.g. initializing a BertForSequenceClassification model from a BertForPreTraining model).\n",
      "- This IS NOT expected if you are initializing BigBirdModel from the checkpoint of a model that you expect to be exactly identical (initializing a BertForSequenceClassification model from a BertForSequenceClassification model).\n"
     ]
    }
   ],
   "source": [
    "from transformers import BigBirdModel, BigBirdTokenizer\n",
    "\n",
    "# Load the saved model\n",
    "model = BigBirdModel.from_pretrained(\"./savedmodel_2\")\n",
    "\n",
    "# Load the saved tokenizer\n",
    "tokenizer = BigBirdTokenizer.from_pretrained(\"./savedmodel_2/\")\n"
   ]
  },
  {
   "cell_type": "code",
   "execution_count": 1,
   "metadata": {},
   "outputs": [
    {
     "ename": "NameError",
     "evalue": "name 'Data_csv' is not defined",
     "output_type": "error",
     "traceback": [
      "\u001b[0;31m---------------------------------------------------------------------------\u001b[0m",
      "\u001b[0;31mNameError\u001b[0m                                 Traceback (most recent call last)",
      "Cell \u001b[0;32mIn[1], line 5\u001b[0m\n\u001b[1;32m      3\u001b[0m predicted_labels \u001b[38;5;241m=\u001b[39m []\n\u001b[1;32m      4\u001b[0m \u001b[38;5;66;03m# Iterate over each row in the dataframe\u001b[39;00m\n\u001b[0;32m----> 5\u001b[0m \u001b[38;5;28;01mfor\u001b[39;00m index, row \u001b[38;5;129;01min\u001b[39;00m \u001b[43mData_csv\u001b[49m\u001b[38;5;241m.\u001b[39miterrows():\n\u001b[1;32m      6\u001b[0m     \u001b[38;5;28mprint\u001b[39m(index)\n\u001b[1;32m      7\u001b[0m     document \u001b[38;5;241m=\u001b[39m row[\u001b[38;5;124m'\u001b[39m\u001b[38;5;124mtext\u001b[39m\u001b[38;5;124m'\u001b[39m]\n",
      "\u001b[0;31mNameError\u001b[0m: name 'Data_csv' is not defined"
     ]
    }
   ],
   "source": [
    "import pandas as pd\n",
    "# Create empty lists to store the predicted labels for each row\n",
    "predicted_labels = []\n",
    "# Iterate over each row in the dataframe\n",
    "for index, row in Data_csv.iterrows():\n",
    "    print(index)\n",
    "    document = row['text']\n",
    "    total_words = len(document)\n",
    "    chunk_size = 512\n",
    "    overlap = 256\n",
    "    total_chunks = (total_words - chunk_size) // (chunk_size - overlap) + 1\n",
    "    chunks = []\n",
    "    for i in range(total_chunks):\n",
    "        start_index = i * (chunk_size - overlap)\n",
    "        end_index = start_index + chunk_size\n",
    "        chunk = document[start_index:end_index]\n",
    "        chunks.append(chunk)"
   ]
  },
  {
   "cell_type": "code",
   "execution_count": 2,
   "metadata": {},
   "outputs": [
    {
     "ename": "NameError",
     "evalue": "name 'Data_csv' is not defined",
     "output_type": "error",
     "traceback": [
      "\u001b[0;31m---------------------------------------------------------------------------\u001b[0m",
      "\u001b[0;31mNameError\u001b[0m                                 Traceback (most recent call last)",
      "Cell \u001b[0;32mIn[2], line 5\u001b[0m\n\u001b[1;32m      3\u001b[0m predicted_labels \u001b[38;5;241m=\u001b[39m []\n\u001b[1;32m      4\u001b[0m \u001b[38;5;66;03m# Iterate over each row in the dataframe\u001b[39;00m\n\u001b[0;32m----> 5\u001b[0m \u001b[38;5;28;01mfor\u001b[39;00m index, row \u001b[38;5;129;01min\u001b[39;00m \u001b[43mData_csv\u001b[49m\u001b[38;5;241m.\u001b[39miterrows():\n\u001b[1;32m      6\u001b[0m     \u001b[38;5;28mprint\u001b[39m(index)\n\u001b[1;32m      7\u001b[0m     document \u001b[38;5;241m=\u001b[39m row[\u001b[38;5;124m'\u001b[39m\u001b[38;5;124mtext\u001b[39m\u001b[38;5;124m'\u001b[39m]\n",
      "\u001b[0;31mNameError\u001b[0m: name 'Data_csv' is not defined"
     ]
    }
   ],
   "source": [
    "import pandas as pd\n",
    "# Create empty lists to store the predicted labels for each row\n",
    "predicted_labels = []\n",
    "# Iterate over each row in the dataframe\n",
    "for index, row in Data_csv.iterrows():\n",
    "    print(index)\n",
    "    document = row['text']\n",
    "    total_words = len(document)\n",
    "    chunk_size = 512\n",
    "    overlap = 256\n",
    "    total_chunks = (total_words - chunk_size) // (chunk_size - overlap) + 1\n",
    "    chunks = []\n",
    "    for i in range(total_chunks):\n",
    "        start_index = i * (chunk_size - overlap)\n",
    "        end_index = start_index + chunk_size\n",
    "        chunk = document[start_index:end_index]\n",
    "        chunks.append(chunk)\n",
    "    tokenized_chunks = []\n",
    "    for chunk in chunks:\n",
    "        tokens = tokenizer(chunk, truncation=True, padding=True, return_tensors=\"pt\")\n",
    "        tokenized_chunks.append(tokens)\n",
    "\n",
    "    chunk_predicted_labels = []\n",
    "    for tokens in tokenized_chunks:\n",
    "        outputs = model(**tokens)\n",
    "        # Get the predicted class index\n",
    "        predicted_class_index = outputs.logits.argmax().item()\n",
    "        # Get the predicted class label\n",
    "        label2id = {\"Level 1\": 0, \"Level 2\": 1, \"Level 3\": 2}\n",
    "        id_to_label = {v: k for k, v in label2id.items()}\n",
    "        predicted_class_label = id_to_label[predicted_class_index]\n",
    "        \n",
    "        chunk_predicted_labels.append(predicted_class_label)\n",
    "\n",
    "    # Find the majority predicted label for all the chunks\n",
    "    majority_label = max(set(chunk_predicted_labels), key=chunk_predicted_labels.count)\n",
    "    predicted_labels.append(majority_label)\n",
    "    print(\"True label vs predicted label\",row['level'],predicted_class_label)\n",
    "\n",
    "# Count the occurrence of each predicted label\n",
    "label_counts = pd.Series(predicted_labels).value_counts()\n",
    "\n",
    "print(label_counts)\n"
   ]
  },
  {
   "cell_type": "code",
   "execution_count": null,
   "metadata": {},
   "outputs": [],
   "source": []
  }
 ],
 "metadata": {
  "kernelspec": {
   "display_name": "Python 3.10.10 ('pytorch')",
   "language": "python",
   "name": "python3"
  },
  "language_info": {
   "codemirror_mode": {
    "name": "ipython",
    "version": 3
   },
   "file_extension": ".py",
   "mimetype": "text/x-python",
   "name": "python",
   "nbconvert_exporter": "python",
   "pygments_lexer": "ipython3",
   "version": "3.10.10"
  },
  "orig_nbformat": 4,
  "vscode": {
   "interpreter": {
    "hash": "2d58e898dde0263bc564c6968b04150abacfd33eed9b19aaa8e45c040360e146"
   }
  }
 },
 "nbformat": 4,
 "nbformat_minor": 2
}
