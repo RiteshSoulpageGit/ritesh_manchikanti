{
 "cells": [
  {
   "cell_type": "code",
   "execution_count": 2,
   "metadata": {},
   "outputs": [],
   "source": [
    "import pandas as pd\n",
    "from docx import Document\n",
    "import re\n",
    "import pandas as pd\n",
    "import torch\n",
    "from transformers import BigBirdTokenizer,BigBirdModel,BigBirdForSequenceClassification\n",
    "import PyPDF2\n",
    "from torch import Tensor"
   ]
  },
  {
   "cell_type": "code",
   "execution_count": 3,
   "metadata": {},
   "outputs": [],
   "source": [
    "Data_csv = pd.read_csv(\"/home/ubuntu/working_directory/Bert_experimentation/new_dataframe_50000_100000.csv\")"
   ]
  },
  {
   "cell_type": "code",
   "execution_count": 4,
   "metadata": {},
   "outputs": [
    {
     "data": {
      "text/html": [
       "<div>\n",
       "<style scoped>\n",
       "    .dataframe tbody tr th:only-of-type {\n",
       "        vertical-align: middle;\n",
       "    }\n",
       "\n",
       "    .dataframe tbody tr th {\n",
       "        vertical-align: top;\n",
       "    }\n",
       "\n",
       "    .dataframe thead th {\n",
       "        text-align: right;\n",
       "    }\n",
       "</style>\n",
       "<table border=\"1\" class=\"dataframe\">\n",
       "  <thead>\n",
       "    <tr style=\"text-align: right;\">\n",
       "      <th></th>\n",
       "      <th>FileName</th>\n",
       "      <th>text</th>\n",
       "      <th>Level</th>\n",
       "    </tr>\n",
       "  </thead>\n",
       "  <tbody>\n",
       "    <tr>\n",
       "      <th>0</th>\n",
       "      <td>15031-4983-FullBook.docx</td>\n",
       "      <td>Learner Choice, Learning Voice\\n\\n\\nLearner Vo...</td>\n",
       "      <td>Level 1</td>\n",
       "    </tr>\n",
       "    <tr>\n",
       "      <th>1</th>\n",
       "      <td>15031-4984-FullBook.docx</td>\n",
       "      <td>\\n\\nExistentialism: A Philosophical Inquiry\\n\\...</td>\n",
       "      <td>Level 1</td>\n",
       "    </tr>\n",
       "    <tr>\n",
       "      <th>2</th>\n",
       "      <td>15031-4985-FullBook.docx</td>\n",
       "      <td>\"The editors of this volume are the top practi...</td>\n",
       "      <td>Level 1</td>\n",
       "    </tr>\n",
       "    <tr>\n",
       "      <th>3</th>\n",
       "      <td>15031-4986-FullBook.docx</td>\n",
       "      <td>Black Power Music!\\n\\nBlack Power Music!: Prot...</td>\n",
       "      <td>Level 1</td>\n",
       "    </tr>\n",
       "    <tr>\n",
       "      <th>4</th>\n",
       "      <td>15031-4994-FullBook.docx</td>\n",
       "      <td>\"A masterful and highly accessible overview of...</td>\n",
       "      <td>Level 1</td>\n",
       "    </tr>\n",
       "    <tr>\n",
       "      <th>...</th>\n",
       "      <td>...</td>\n",
       "      <td>...</td>\n",
       "      <td>...</td>\n",
       "    </tr>\n",
       "    <tr>\n",
       "      <th>690</th>\n",
       "      <td>15032-5743-FullBook.docx</td>\n",
       "      <td>Student-Centred Approaches to Russian Language...</td>\n",
       "      <td>Level 3</td>\n",
       "    </tr>\n",
       "    <tr>\n",
       "      <th>691</th>\n",
       "      <td>15032-5749-FullBook.docx</td>\n",
       "      <td>Ancient and Early Medieval Kingdoms of the Pam...</td>\n",
       "      <td>Level 3</td>\n",
       "    </tr>\n",
       "    <tr>\n",
       "      <th>692</th>\n",
       "      <td>15032-5789-FullBook.docx</td>\n",
       "      <td>The Acquisition of English Grammar and Phonolo...</td>\n",
       "      <td>Level 3</td>\n",
       "    </tr>\n",
       "    <tr>\n",
       "      <th>693</th>\n",
       "      <td>15032-5829-FullBook.docx</td>\n",
       "      <td>\\n‘New concepts, new words for them, new actio...</td>\n",
       "      <td>Level 3</td>\n",
       "    </tr>\n",
       "    <tr>\n",
       "      <th>694</th>\n",
       "      <td>15032-6039-FullBook.docx</td>\n",
       "      <td>Reassessing Vocational Education in China\\n\\nB...</td>\n",
       "      <td>Level 3</td>\n",
       "    </tr>\n",
       "  </tbody>\n",
       "</table>\n",
       "<p>695 rows × 3 columns</p>\n",
       "</div>"
      ],
      "text/plain": [
       "                     FileName  \\\n",
       "0    15031-4983-FullBook.docx   \n",
       "1    15031-4984-FullBook.docx   \n",
       "2    15031-4985-FullBook.docx   \n",
       "3    15031-4986-FullBook.docx   \n",
       "4    15031-4994-FullBook.docx   \n",
       "..                        ...   \n",
       "690  15032-5743-FullBook.docx   \n",
       "691  15032-5749-FullBook.docx   \n",
       "692  15032-5789-FullBook.docx   \n",
       "693  15032-5829-FullBook.docx   \n",
       "694  15032-6039-FullBook.docx   \n",
       "\n",
       "                                                  text    Level  \n",
       "0    Learner Choice, Learning Voice\\n\\n\\nLearner Vo...  Level 1  \n",
       "1    \\n\\nExistentialism: A Philosophical Inquiry\\n\\...  Level 1  \n",
       "2    \"The editors of this volume are the top practi...  Level 1  \n",
       "3    Black Power Music!\\n\\nBlack Power Music!: Prot...  Level 1  \n",
       "4    \"A masterful and highly accessible overview of...  Level 1  \n",
       "..                                                 ...      ...  \n",
       "690  Student-Centred Approaches to Russian Language...  Level 3  \n",
       "691  Ancient and Early Medieval Kingdoms of the Pam...  Level 3  \n",
       "692  The Acquisition of English Grammar and Phonolo...  Level 3  \n",
       "693  \\n‘New concepts, new words for them, new actio...  Level 3  \n",
       "694  Reassessing Vocational Education in China\\n\\nB...  Level 3  \n",
       "\n",
       "[695 rows x 3 columns]"
      ]
     },
     "execution_count": 4,
     "metadata": {},
     "output_type": "execute_result"
    }
   ],
   "source": [
    "Data_csv.drop('Unnamed: 0', axis=1, inplace=True)\n",
    "Data_csv"
   ]
  },
  {
   "cell_type": "code",
   "execution_count": 5,
   "metadata": {},
   "outputs": [
    {
     "data": {
      "text/plain": [
       "Level 1    577\n",
       "Level 2     91\n",
       "Level 3     27\n",
       "Name: Level, dtype: int64"
      ]
     },
     "execution_count": 5,
     "metadata": {},
     "output_type": "execute_result"
    }
   ],
   "source": [
    "Data_csv[\"Level\"].value_counts()"
   ]
  },
  {
   "cell_type": "code",
   "execution_count": 6,
   "metadata": {},
   "outputs": [
    {
     "data": {
      "image/png": "[encoded data removed]",
      "text/plain": [
       "<Figure size 640x480 with 1 Axes>"
      ]
     },
     "metadata": {},
     "output_type": "display_data"
    }
   ],
   "source": [
    "sample_df = Data_csv.groupby(\"Level\").apply(lambda x: x.sample(27))\n",
    "selected_df = sample_df[\"Level\"].value_counts().plot(kind=\"bar\")"
   ]
  },
  {
   "cell_type": "code",
   "execution_count": 7,
   "metadata": {},
   "outputs": [],
   "source": [
    "tokenizer = BigBirdTokenizer.from_pretrained('google/bigbird-roberta-base')"
   ]
  },
  {
   "cell_type": "code",
   "execution_count": 8,
   "metadata": {},
   "outputs": [],
   "source": [
    "def split_tokens_into_smaller_chunks(input_id: Tensor,att_mask: Tensor, chunk_size: int, stride: int, minimal_chunk_length: int):\n",
    "    input_id_chunks = [input_id[i : i + chunk_size] for i in range(0, len(input_id), stride)]\n",
    "    mask_chunks = [att_mask[i : i + chunk_size] for i in range(0, len(att_mask), stride)]\n",
    "    if len(input_id_chunks) > 1:\n",
    "        # ignore chunks with less than minimal_length number of tokens\n",
    "        input_id_chunks = [x for x in input_id_chunks if len(x) >= minimal_chunk_length]\n",
    "        mask_chunks = [x for x in mask_chunks if len(x) >= minimal_chunk_length]\n",
    "    return input_id_chunks, mask_chunks\n",
    "\n",
    "\n",
    "def add_special_tokens_at_beginning_and_end(input_id_chunks: list[Tensor], mask_chunks: list[Tensor]) -> None:\n",
    "    \"\"\"\n",
    "    Adds special CLS token (token id = 101) at the beginning.\n",
    "    Adds SEP token (token id = 102) at the end of each chunk.\n",
    "    Adds corresponding attention masks equal to 1 (attention mask is boolean).\n",
    "    \"\"\"\n",
    "    for i in range(len(input_id_chunks)):\n",
    "        # adding CLS (token id 101) and SEP (token id 102) tokens\n",
    "        input_id_chunks[i] = torch.cat([Tensor([101]), input_id_chunks[i], Tensor([102])])\n",
    "        # adding attention masks  corresponding to special tokens\n",
    "        mask_chunks[i] = torch.cat([Tensor([1]), mask_chunks[i], Tensor([1])])\n",
    "\n",
    "def add_padding_tokens(input_id_chunks: list[Tensor], mask_chunks: list[Tensor]) -> None:\n",
    "    \"\"\"Adds padding tokens (token id = 0) at the end to make sure that all chunks have exactly 512 tokens.\"\"\"\n",
    "    for i in range(len(input_id_chunks)):\n",
    "        # get required padding length\n",
    "        pad_len = 512 - input_id_chunks[i].shape[0]\n",
    "        # check if tensor length satisfies required chunk size\n",
    "        if pad_len > 0:\n",
    "            # if padding length is more than 0, we must add padding\n",
    "            input_id_chunks[i] = torch.cat([input_id_chunks[i], Tensor([0] * pad_len)])\n",
    "            mask_chunks[i] = torch.cat([mask_chunks[i], Tensor([0] * pad_len)])\n",
    "def stack_tokens_from_all_chunks(input_id_chunks: list[Tensor], mask_chunks: list[Tensor]) -> tuple[Tensor, Tensor]:\n",
    "    input_ids = torch.stack(input_id_chunks)\n",
    "    attention_mask = torch.stack(mask_chunks)\n",
    "    return input_ids.long(), attention_mask.int()"
   ]
  },
  {
   "cell_type": "code",
   "execution_count": 39,
   "metadata": {},
   "outputs": [],
   "source": [
    "new_chunk_df = pd.DataFrame()\n",
    "total_chunks = []   \n",
    "total_fnames = []\n",
    "total_labels = []\n",
    "total_chunk_counts = []\n",
    "input_df = []\n",
    "attention_mask_df = []\n",
    "labels_df = []\n",
    "chunks_count = 1\n",
    "chunk_size = 510 \n",
    "stride = 256\n",
    "minimal_chunk_length = 1\n",
    "label2id = {\"Level 1\": 0, \"Level 2\": 1, \"Level 3\": 2}\n",
    "\n",
    "for idx in range(sample_df.shape[0]):\n",
    "    x = sample_df[\"text\"].iloc[idx]\n",
    "    label = label2id[sample_df.iloc[idx][\"Level\"]]\n",
    "    label_vec = pd.get_dummies([label], columns=label2id.values()).values.squeeze()\n",
    "    tokens = tokenizer(x, add_special_tokens=True, truncation=False, return_tensors=\"pt\")\n",
    "    input_id_chunks, mask_chunks = split_tokens_into_smaller_chunks(tokens[\"input_ids\"][0],tokens[\"attention_mask\"][0], chunk_size, stride, minimal_chunk_length)\n",
    "    add_special_tokens_at_beginning_and_end(input_id_chunks, mask_chunks)\n",
    "    add_padding_tokens(input_id_chunks, mask_chunks)\n",
    "    input_ids, attention_mask = stack_tokens_from_all_chunks(input_id_chunks, mask_chunks)\n",
    "    input_df.append(input_ids)\n",
    "    attention_mask_df.append(attention_mask)\n",
    "    labels_df.append(label_vec)\n",
    "\n",
    "    "
   ]
  },
  {
   "cell_type": "code",
   "execution_count": 42,
   "metadata": {},
   "outputs": [
    {
     "data": {
      "text/plain": [
       "torch.Size([483, 512])"
      ]
     },
     "execution_count": 42,
     "metadata": {},
     "output_type": "execute_result"
    }
   ],
   "source": [
    "input_df[0].shape"
   ]
  },
  {
   "cell_type": "code",
   "execution_count": 13,
   "metadata": {},
   "outputs": [],
   "source": [
    "from torch.utils.data import Dataset\n",
    "from torch.nn.utils.rnn import pad_sequence\n",
    "class CustomDataset(Dataset):\n",
    "    def __init__(self, data, label2id, tokenizer, chunk_size, stride, minimal_chunk_length):\n",
    "        self.data = data\n",
    "        self.label2id = label2id\n",
    "        self.tokenizer = tokenizer\n",
    "        self.chunk_size = chunk_size\n",
    "        self.stride = stride\n",
    "        self.minimal_chunk_length = minimal_chunk_length\n",
    "\n",
    "    def __len__(self):\n",
    "        return len(self.data)\n",
    "\n",
    "    def __getitem__(self, index):\n",
    "        x = self.data[\"text\"].iloc[index]\n",
    "        label = self.label2id[self.data.iloc[index][\"Level\"]]\n",
    "        tokens = self.tokenizer(x, add_special_tokens=True, truncation=False, return_tensors=\"pt\")\n",
    "        input_id_chunks, mask_chunks = split_tokens_into_smaller_chunks(tokens[\"input_ids\"][0], tokens[\"attention_mask\"][0], self.chunk_size, self.stride, self.minimal_chunk_length)\n",
    "        add_special_tokens_at_beginning_and_end(input_id_chunks, mask_chunks)\n",
    "        add_padding_tokens(input_id_chunks, mask_chunks)\n",
    "        input_ids, attention_mask = stack_tokens_from_all_chunks(input_id_chunks, mask_chunks)\n",
    "\n",
    "        return {\n",
    "            'input_ids': input_ids.squeeze(),\n",
    "            'attention_mask': attention_mask.squeeze(),\n",
    "            'label': label\n",
    "        }\n"
   ]
  },
  {
   "cell_type": "code",
   "execution_count": 14,
   "metadata": {},
   "outputs": [],
   "source": [
    "from torch.utils.data import Dataset\n",
    "\n",
    "class CustomDataset(Dataset):\n",
    "    def __init__(self, data, label2id, tokenizer, chunk_size, stride, minimal_chunk_length):\n",
    "        self.data = data\n",
    "        self.label2id = label2id\n",
    "        self.tokenizer = tokenizer\n",
    "        self.chunk_size = chunk_size\n",
    "        self.stride = stride\n",
    "        self.minimal_chunk_length = minimal_chunk_length\n",
    "\n",
    "    def __len__(self):\n",
    "        return len(self.data)\n",
    "\n",
    "    def __getitem__(self, index):\n",
    "        x = self.data[\"text\"].iloc[index]\n",
    "        label = self.label2id[self.data.iloc[index][\"Level\"]]\n",
    "\n",
    "        tokens = self.tokenizer(x, add_special_tokens=True, truncation=False, return_tensors=\"pt\")\n",
    "        input_id_chunks, mask_chunks = split_tokens_into_smaller_chunks(tokens[\"input_ids\"][0], tokens[\"attention_mask\"][0], self.chunk_size, self.stride, self.minimal_chunk_length)\n",
    "        add_special_tokens_at_beginning_and_end(input_id_chunks, mask_chunks)\n",
    "        add_padding_tokens(input_id_chunks, mask_chunks)\n",
    "        input_ids, attention_mask = stack_tokens_from_all_chunks(input_id_chunks, mask_chunks)\n",
    "\n",
    "      # Padding\n",
    "        input_id_chunks = pad_sequence(input_id_chunks, batch_first=True, padding_value=self.tokenizer.pad_token_id)\n",
    "        mask_chunks = pad_sequence(mask_chunks, batch_first=True, padding_value=0)\n",
    "\n",
    "        label_vec = pd.get_dummies([label], columns=self.label2id.values()).values.squeeze()\n",
    "\n",
    "        return {\n",
    "            'input_ids': input_id_chunks,\n",
    "            'attention_mask': mask_chunks,\n",
    "            'label': torch.tensor(label_vec, dtype=torch.float32)\n",
    "        }\n"
   ]
  },
  {
   "cell_type": "code",
   "execution_count": 15,
   "metadata": {},
   "outputs": [],
   "source": [
    "label2id = {\"Level 1\": 0, \"Level 2\": 1, \"Level 3\": 2}\n",
    "chunks_count = 1\n",
    "chunk_size = 510 \n",
    "stride = 256\n",
    "minimal_chunk_length = 1\n",
    "train_dataset = CustomDataset(sample_df, label2id, tokenizer, chunk_size, stride, minimal_chunk_length)\n"
   ]
  },
  {
   "cell_type": "code",
   "execution_count": 16,
   "metadata": {},
   "outputs": [
    {
     "data": {
      "text/plain": [
       "81"
      ]
     },
     "execution_count": 16,
     "metadata": {},
     "output_type": "execute_result"
    }
   ],
   "source": [
    "len(train_dataset)"
   ]
  },
  {
   "cell_type": "code",
   "execution_count": null,
   "metadata": {},
   "outputs": [],
   "source": []
  },
  {
   "cell_type": "code",
   "execution_count": 18,
   "metadata": {},
   "outputs": [
    {
     "data": {
      "text/plain": [
       "torch.Size([381, 512])"
      ]
     },
     "execution_count": 18,
     "metadata": {},
     "output_type": "execute_result"
    }
   ],
   "source": [
    "len(train_dataset)\n",
    "train_dataset[0]['input_ids'].shape\n",
    "# train_dataset[0]['input_ids']"
   ]
  },
  {
   "cell_type": "code",
   "execution_count": 32,
   "metadata": {},
   "outputs": [
    {
     "ename": "AttributeError",
     "evalue": "'CustomDataset' object has no attribute 'shape'",
     "output_type": "error",
     "traceback": [
      "\u001b[0;31m---------------------------------------------------------------------------\u001b[0m",
      "\u001b[0;31mAttributeError\u001b[0m                            Traceback (most recent call last)",
      "Cell \u001b[0;32mIn[32], line 1\u001b[0m\n\u001b[0;32m----> 1\u001b[0m \u001b[43mtrain_dataset\u001b[49m\u001b[38;5;241;43m.\u001b[39;49m\u001b[43mshape\u001b[49m\n",
      "\u001b[0;31mAttributeError\u001b[0m: 'CustomDataset' object has no attribute 'shape'"
     ]
    }
   ],
   "source": [
    "dimension_tensor = torch.randn(556, 512)  # Replace this with your actual tensor\n",
    "label = 1  # Replace this with your actual label\n",
    "\n",
    "# Convert the tensor into a list of tensors of size ([512]) with the same label\n",
    "dimension_list = [dimension_tensor[i] for i in range(dimension_tensor.size(0))]\n",
    "label_list = [label] * dimension_tensor.size(0)\n",
    "\n",
    "# Print the first tensor and label from the list\n",
    "print(\"Dimension Tensor:\", dimension_list[0])\n",
    "print(\"Label:\", label_list[0])"
   ]
  },
  {
   "cell_type": "code",
   "execution_count": 27,
   "metadata": {},
   "outputs": [],
   "source": [
    "train_loader = torch.utils.data.DataLoader(train_dataset,\n",
    "                                           batch_size=4,\n",
    "                                           pin_memory=True,\n",
    "                                           shuffle=False, \n",
    "                                           )\n",
    "# test_loader = torch.utils.data.DataLoader(test_dataset,\n",
    "#                                            batch_size=4,\n",
    "#                                            pin_memory=True,\n",
    "#                                            )"
   ]
  },
  {
   "cell_type": "code",
   "execution_count": 28,
   "metadata": {},
   "outputs": [
    {
     "name": "stderr",
     "output_type": "stream",
     "text": [
      "Some weights of the model checkpoint at google/bigbird-roberta-base were not used when initializing BigBirdForSequenceClassification: ['cls.predictions.transform.LayerNorm.bias', 'cls.predictions.decoder.bias', 'cls.predictions.transform.dense.bias', 'cls.predictions.transform.dense.weight', 'cls.predictions.transform.LayerNorm.weight', 'cls.predictions.bias', 'cls.seq_relationship.bias', 'cls.predictions.decoder.weight', 'cls.seq_relationship.weight']\n",
      "- This IS expected if you are initializing BigBirdForSequenceClassification from the checkpoint of a model trained on another task or with another architecture (e.g. initializing a BertForSequenceClassification model from a BertForPreTraining model).\n",
      "- This IS NOT expected if you are initializing BigBirdForSequenceClassification from the checkpoint of a model that you expect to be exactly identical (initializing a BertForSequenceClassification model from a BertForSequenceClassification model).\n",
      "Some weights of BigBirdForSequenceClassification were not initialized from the model checkpoint at google/bigbird-roberta-base and are newly initialized: ['classifier.dense.bias', 'classifier.out_proj.weight', 'classifier.dense.weight', 'classifier.out_proj.bias']\n",
      "You should probably TRAIN this model on a down-stream task to be able to use it for predictions and inference.\n"
     ]
    }
   ],
   "source": [
    "tokenizer = BigBirdTokenizer.from_pretrained('google/bigbird-roberta-base')\n",
    "model = BigBirdForSequenceClassification.from_pretrained('google/bigbird-roberta-base', \n",
    "                                                         num_labels=3)\n",
    "from torch.optim import AdamW\n",
    "from transformers import get_linear_schedule_with_warmup\n",
    "\n",
    "EPOCHS = 5\n",
    "LEARNING_RATE = 0.0000025 ######\n",
    "BATCH_SIZE = 4\n",
    "optimizer = AdamW(model.parameters(), lr=LEARNING_RATE, weight_decay=0.04) #####\n",
    "scheduler = get_linear_schedule_with_warmup(optimizer, \n",
    "             num_warmup_steps=50, ########\n",
    "            num_training_steps=len(train_loader)*EPOCHS )   "
   ]
  },
  {
   "cell_type": "code",
   "execution_count": 29,
   "metadata": {},
   "outputs": [],
   "source": [
    "device = torch.device(\"cuda:3\" if torch.cuda.is_available() else \"cpu\")\n"
   ]
  },
  {
   "cell_type": "code",
   "execution_count": 30,
   "metadata": {},
   "outputs": [
    {
     "name": "stdout",
     "output_type": "stream",
     "text": [
      "Epoch:  1\n"
     ]
    },
    {
     "data": {
      "application/vnd.jupyter.widget-view+json": {
       "model_id": "245feb7f6e144a39a938e0b663dbb2eb",
       "version_major": 2,
       "version_minor": 0
      },
      "text/plain": [
       "Training:   0%|          | 0/21 [00:00<?, ?it/s]"
      ]
     },
     "metadata": {},
     "output_type": "display_data"
    },
    {
     "ename": "RuntimeError",
     "evalue": "stack expects each tensor to be equal size, but got [556, 512] at entry 0 and [319, 512] at entry 1",
     "output_type": "error",
     "traceback": [
      "\u001b[0;31m---------------------------------------------------------------------------\u001b[0m",
      "\u001b[0;31mRuntimeError\u001b[0m                              Traceback (most recent call last)",
      "Cell \u001b[0;32mIn[30], line 19\u001b[0m\n\u001b[1;32m     17\u001b[0m model\u001b[38;5;241m.\u001b[39mtrain()\n\u001b[1;32m     18\u001b[0m train_loss \u001b[38;5;241m=\u001b[39m \u001b[38;5;241m0\u001b[39m\n\u001b[0;32m---> 19\u001b[0m \u001b[38;5;28;01mfor\u001b[39;00m step_num, batch_data \u001b[38;5;129;01min\u001b[39;00m \u001b[38;5;28menumerate\u001b[39m(tqdm(train_loader,desc\u001b[38;5;241m=\u001b[39m\u001b[38;5;124m'\u001b[39m\u001b[38;5;124mTraining\u001b[39m\u001b[38;5;124m'\u001b[39m)):\n\u001b[1;32m     20\u001b[0m     \u001b[38;5;66;03m# tqdm_desc = f'Training ({step_num+1}/{train_loader_length})'\u001b[39;00m\n\u001b[1;32m     21\u001b[0m     \u001b[38;5;66;03m# print(\"batch>>>\",batch_data)\u001b[39;00m\n\u001b[1;32m     22\u001b[0m     input_ids, att_mask, labels \u001b[38;5;241m=\u001b[39m batch_data[\u001b[38;5;124m\"\u001b[39m\u001b[38;5;124minput_ids\u001b[39m\u001b[38;5;124m\"\u001b[39m]\u001b[38;5;241m.\u001b[39mto(device),batch_data[\u001b[38;5;124m\"\u001b[39m\u001b[38;5;124mattention_mask\u001b[39m\u001b[38;5;124m\"\u001b[39m]\u001b[38;5;241m.\u001b[39mto(device),batch_data[\u001b[38;5;124m\"\u001b[39m\u001b[38;5;124mlabel\u001b[39m\u001b[38;5;124m\"\u001b[39m]\u001b[38;5;241m.\u001b[39mto(device)\n\u001b[1;32m     24\u001b[0m     \u001b[38;5;66;03m# input_ids, att_mask, labels = [data.to(device) for data in batch_data]\u001b[39;00m\n",
      "File \u001b[0;32m/opt/conda/envs/pytorch/lib/python3.10/site-packages/tqdm/notebook.py:254\u001b[0m, in \u001b[0;36mtqdm_notebook.__iter__\u001b[0;34m(self)\u001b[0m\n\u001b[1;32m    252\u001b[0m \u001b[39mtry\u001b[39;00m:\n\u001b[1;32m    253\u001b[0m     it \u001b[39m=\u001b[39m \u001b[39msuper\u001b[39m(tqdm_notebook, \u001b[39mself\u001b[39m)\u001b[39m.\u001b[39m\u001b[39m__iter__\u001b[39m()\n\u001b[0;32m--> 254\u001b[0m     \u001b[39mfor\u001b[39;00m obj \u001b[39min\u001b[39;00m it:\n\u001b[1;32m    255\u001b[0m         \u001b[39m# return super(tqdm...) will not catch exception\u001b[39;00m\n\u001b[1;32m    256\u001b[0m         \u001b[39myield\u001b[39;00m obj\n\u001b[1;32m    257\u001b[0m \u001b[39m# NB: except ... [ as ...] breaks IPython async KeyboardInterrupt\u001b[39;00m\n",
      "File \u001b[0;32m/opt/conda/envs/pytorch/lib/python3.10/site-packages/tqdm/std.py:1178\u001b[0m, in \u001b[0;36mtqdm.__iter__\u001b[0;34m(self)\u001b[0m\n\u001b[1;32m   1175\u001b[0m time \u001b[39m=\u001b[39m \u001b[39mself\u001b[39m\u001b[39m.\u001b[39m_time\n\u001b[1;32m   1177\u001b[0m \u001b[39mtry\u001b[39;00m:\n\u001b[0;32m-> 1178\u001b[0m     \u001b[39mfor\u001b[39;00m obj \u001b[39min\u001b[39;00m iterable:\n\u001b[1;32m   1179\u001b[0m         \u001b[39myield\u001b[39;00m obj\n\u001b[1;32m   1180\u001b[0m         \u001b[39m# Update and possibly print the progressbar.\u001b[39;00m\n\u001b[1;32m   1181\u001b[0m         \u001b[39m# Note: does not call self.update(1) for speed optimisation.\u001b[39;00m\n",
      "File \u001b[0;32m/opt/conda/envs/pytorch/lib/python3.10/site-packages/torch/utils/data/dataloader.py:634\u001b[0m, in \u001b[0;36m_BaseDataLoaderIter.__next__\u001b[0;34m(self)\u001b[0m\n\u001b[1;32m    631\u001b[0m \u001b[39mif\u001b[39;00m \u001b[39mself\u001b[39m\u001b[39m.\u001b[39m_sampler_iter \u001b[39mis\u001b[39;00m \u001b[39mNone\u001b[39;00m:\n\u001b[1;32m    632\u001b[0m     \u001b[39m# TODO(https://github.com/pytorch/pytorch/issues/76750)\u001b[39;00m\n\u001b[1;32m    633\u001b[0m     \u001b[39mself\u001b[39m\u001b[39m.\u001b[39m_reset()  \u001b[39m# type: ignore[call-arg]\u001b[39;00m\n\u001b[0;32m--> 634\u001b[0m data \u001b[39m=\u001b[39m \u001b[39mself\u001b[39;49m\u001b[39m.\u001b[39;49m_next_data()\n\u001b[1;32m    635\u001b[0m \u001b[39mself\u001b[39m\u001b[39m.\u001b[39m_num_yielded \u001b[39m+\u001b[39m\u001b[39m=\u001b[39m \u001b[39m1\u001b[39m\n\u001b[1;32m    636\u001b[0m \u001b[39mif\u001b[39;00m \u001b[39mself\u001b[39m\u001b[39m.\u001b[39m_dataset_kind \u001b[39m==\u001b[39m _DatasetKind\u001b[39m.\u001b[39mIterable \u001b[39mand\u001b[39;00m \\\n\u001b[1;32m    637\u001b[0m         \u001b[39mself\u001b[39m\u001b[39m.\u001b[39m_IterableDataset_len_called \u001b[39mis\u001b[39;00m \u001b[39mnot\u001b[39;00m \u001b[39mNone\u001b[39;00m \u001b[39mand\u001b[39;00m \\\n\u001b[1;32m    638\u001b[0m         \u001b[39mself\u001b[39m\u001b[39m.\u001b[39m_num_yielded \u001b[39m>\u001b[39m \u001b[39mself\u001b[39m\u001b[39m.\u001b[39m_IterableDataset_len_called:\n",
      "File \u001b[0;32m/opt/conda/envs/pytorch/lib/python3.10/site-packages/torch/utils/data/dataloader.py:678\u001b[0m, in \u001b[0;36m_SingleProcessDataLoaderIter._next_data\u001b[0;34m(self)\u001b[0m\n\u001b[1;32m    676\u001b[0m \u001b[39mdef\u001b[39;00m \u001b[39m_next_data\u001b[39m(\u001b[39mself\u001b[39m):\n\u001b[1;32m    677\u001b[0m     index \u001b[39m=\u001b[39m \u001b[39mself\u001b[39m\u001b[39m.\u001b[39m_next_index()  \u001b[39m# may raise StopIteration\u001b[39;00m\n\u001b[0;32m--> 678\u001b[0m     data \u001b[39m=\u001b[39m \u001b[39mself\u001b[39;49m\u001b[39m.\u001b[39;49m_dataset_fetcher\u001b[39m.\u001b[39;49mfetch(index)  \u001b[39m# may raise StopIteration\u001b[39;00m\n\u001b[1;32m    679\u001b[0m     \u001b[39mif\u001b[39;00m \u001b[39mself\u001b[39m\u001b[39m.\u001b[39m_pin_memory:\n\u001b[1;32m    680\u001b[0m         data \u001b[39m=\u001b[39m _utils\u001b[39m.\u001b[39mpin_memory\u001b[39m.\u001b[39mpin_memory(data, \u001b[39mself\u001b[39m\u001b[39m.\u001b[39m_pin_memory_device)\n",
      "File \u001b[0;32m/opt/conda/envs/pytorch/lib/python3.10/site-packages/torch/utils/data/_utils/fetch.py:54\u001b[0m, in \u001b[0;36m_MapDatasetFetcher.fetch\u001b[0;34m(self, possibly_batched_index)\u001b[0m\n\u001b[1;32m     52\u001b[0m \u001b[39melse\u001b[39;00m:\n\u001b[1;32m     53\u001b[0m     data \u001b[39m=\u001b[39m \u001b[39mself\u001b[39m\u001b[39m.\u001b[39mdataset[possibly_batched_index]\n\u001b[0;32m---> 54\u001b[0m \u001b[39mreturn\u001b[39;00m \u001b[39mself\u001b[39;49m\u001b[39m.\u001b[39;49mcollate_fn(data)\n",
      "File \u001b[0;32m/opt/conda/envs/pytorch/lib/python3.10/site-packages/torch/utils/data/_utils/collate.py:264\u001b[0m, in \u001b[0;36mdefault_collate\u001b[0;34m(batch)\u001b[0m\n\u001b[1;32m    203\u001b[0m \u001b[39mdef\u001b[39;00m \u001b[39mdefault_collate\u001b[39m(batch):\n\u001b[1;32m    204\u001b[0m \u001b[39m    \u001b[39m\u001b[39mr\u001b[39m\u001b[39m\"\"\"\u001b[39;00m\n\u001b[1;32m    205\u001b[0m \u001b[39m        Function that takes in a batch of data and puts the elements within the batch\u001b[39;00m\n\u001b[1;32m    206\u001b[0m \u001b[39m        into a tensor with an additional outer dimension - batch size. The exact output type can be\u001b[39;00m\n\u001b[0;32m   (...)\u001b[0m\n\u001b[1;32m    262\u001b[0m \u001b[39m            >>> default_collate(batch)  # Handle `CustomType` automatically\u001b[39;00m\n\u001b[1;32m    263\u001b[0m \u001b[39m    \"\"\"\u001b[39;00m\n\u001b[0;32m--> 264\u001b[0m     \u001b[39mreturn\u001b[39;00m collate(batch, collate_fn_map\u001b[39m=\u001b[39;49mdefault_collate_fn_map)\n",
      "File \u001b[0;32m/opt/conda/envs/pytorch/lib/python3.10/site-packages/torch/utils/data/_utils/collate.py:127\u001b[0m, in \u001b[0;36mcollate\u001b[0;34m(batch, collate_fn_map)\u001b[0m\n\u001b[1;32m    125\u001b[0m \u001b[39mif\u001b[39;00m \u001b[39misinstance\u001b[39m(elem, collections\u001b[39m.\u001b[39mabc\u001b[39m.\u001b[39mMapping):\n\u001b[1;32m    126\u001b[0m     \u001b[39mtry\u001b[39;00m:\n\u001b[0;32m--> 127\u001b[0m         \u001b[39mreturn\u001b[39;00m elem_type({key: collate([d[key] \u001b[39mfor\u001b[39;00m d \u001b[39min\u001b[39;00m batch], collate_fn_map\u001b[39m=\u001b[39mcollate_fn_map) \u001b[39mfor\u001b[39;00m key \u001b[39min\u001b[39;00m elem})\n\u001b[1;32m    128\u001b[0m     \u001b[39mexcept\u001b[39;00m \u001b[39mTypeError\u001b[39;00m:\n\u001b[1;32m    129\u001b[0m         \u001b[39m# The mapping type may not support `__init__(iterable)`.\u001b[39;00m\n\u001b[1;32m    130\u001b[0m         \u001b[39mreturn\u001b[39;00m {key: collate([d[key] \u001b[39mfor\u001b[39;00m d \u001b[39min\u001b[39;00m batch], collate_fn_map\u001b[39m=\u001b[39mcollate_fn_map) \u001b[39mfor\u001b[39;00m key \u001b[39min\u001b[39;00m elem}\n",
      "File \u001b[0;32m/opt/conda/envs/pytorch/lib/python3.10/site-packages/torch/utils/data/_utils/collate.py:127\u001b[0m, in \u001b[0;36m<dictcomp>\u001b[0;34m(.0)\u001b[0m\n\u001b[1;32m    125\u001b[0m \u001b[39mif\u001b[39;00m \u001b[39misinstance\u001b[39m(elem, collections\u001b[39m.\u001b[39mabc\u001b[39m.\u001b[39mMapping):\n\u001b[1;32m    126\u001b[0m     \u001b[39mtry\u001b[39;00m:\n\u001b[0;32m--> 127\u001b[0m         \u001b[39mreturn\u001b[39;00m elem_type({key: collate([d[key] \u001b[39mfor\u001b[39;49;00m d \u001b[39min\u001b[39;49;00m batch], collate_fn_map\u001b[39m=\u001b[39;49mcollate_fn_map) \u001b[39mfor\u001b[39;00m key \u001b[39min\u001b[39;00m elem})\n\u001b[1;32m    128\u001b[0m     \u001b[39mexcept\u001b[39;00m \u001b[39mTypeError\u001b[39;00m:\n\u001b[1;32m    129\u001b[0m         \u001b[39m# The mapping type may not support `__init__(iterable)`.\u001b[39;00m\n\u001b[1;32m    130\u001b[0m         \u001b[39mreturn\u001b[39;00m {key: collate([d[key] \u001b[39mfor\u001b[39;00m d \u001b[39min\u001b[39;00m batch], collate_fn_map\u001b[39m=\u001b[39mcollate_fn_map) \u001b[39mfor\u001b[39;00m key \u001b[39min\u001b[39;00m elem}\n",
      "File \u001b[0;32m/opt/conda/envs/pytorch/lib/python3.10/site-packages/torch/utils/data/_utils/collate.py:119\u001b[0m, in \u001b[0;36mcollate\u001b[0;34m(batch, collate_fn_map)\u001b[0m\n\u001b[1;32m    117\u001b[0m \u001b[39mif\u001b[39;00m collate_fn_map \u001b[39mis\u001b[39;00m \u001b[39mnot\u001b[39;00m \u001b[39mNone\u001b[39;00m:\n\u001b[1;32m    118\u001b[0m     \u001b[39mif\u001b[39;00m elem_type \u001b[39min\u001b[39;00m collate_fn_map:\n\u001b[0;32m--> 119\u001b[0m         \u001b[39mreturn\u001b[39;00m collate_fn_map[elem_type](batch, collate_fn_map\u001b[39m=\u001b[39;49mcollate_fn_map)\n\u001b[1;32m    121\u001b[0m     \u001b[39mfor\u001b[39;00m collate_type \u001b[39min\u001b[39;00m collate_fn_map:\n\u001b[1;32m    122\u001b[0m         \u001b[39mif\u001b[39;00m \u001b[39misinstance\u001b[39m(elem, collate_type):\n",
      "File \u001b[0;32m/opt/conda/envs/pytorch/lib/python3.10/site-packages/torch/utils/data/_utils/collate.py:162\u001b[0m, in \u001b[0;36mcollate_tensor_fn\u001b[0;34m(batch, collate_fn_map)\u001b[0m\n\u001b[1;32m    160\u001b[0m     storage \u001b[39m=\u001b[39m elem\u001b[39m.\u001b[39m_typed_storage()\u001b[39m.\u001b[39m_new_shared(numel, device\u001b[39m=\u001b[39melem\u001b[39m.\u001b[39mdevice)\n\u001b[1;32m    161\u001b[0m     out \u001b[39m=\u001b[39m elem\u001b[39m.\u001b[39mnew(storage)\u001b[39m.\u001b[39mresize_(\u001b[39mlen\u001b[39m(batch), \u001b[39m*\u001b[39m\u001b[39mlist\u001b[39m(elem\u001b[39m.\u001b[39msize()))\n\u001b[0;32m--> 162\u001b[0m \u001b[39mreturn\u001b[39;00m torch\u001b[39m.\u001b[39;49mstack(batch, \u001b[39m0\u001b[39;49m, out\u001b[39m=\u001b[39;49mout)\n",
      "\u001b[0;31mRuntimeError\u001b[0m: stack expects each tensor to be equal size, but got [556, 512] at entry 0 and [319, 512] at entry 1"
     ]
    }
   ],
   "source": [
    "from torch.nn.utils import clip_grad_norm_\n",
    "# from tqdm import tqdm\n",
    "from tqdm.notebook import tqdm\n",
    "\n",
    "import numpy as np\n",
    "import math\n",
    "\n",
    "train_loss_per_epoch = []\n",
    "val_loss_per_epoch = []\n",
    "\n",
    "model = model.to(device)\n",
    "for epoch_num in range(EPOCHS):\n",
    "    print('Epoch: ', epoch_num + 1)\n",
    "    '''\n",
    "    Training\n",
    "    '''\n",
    "    model.train()\n",
    "    train_loss = 0\n",
    "    for step_num, batch_data in enumerate(tqdm(train_loader,desc='Training')):\n",
    "        # tqdm_desc = f'Training ({step_num+1}/{train_loader_length})'\n",
    "        # print(\"batch>>>\",batch_data)\n",
    "        input_ids, att_mask, labels = batch_data[\"input_ids\"].to(device),batch_data[\"attention_mask\"].to(device),batch_data[\"label\"].to(device)\n",
    "\n",
    "        # input_ids, att_mask, labels = [data.to(device) for data in batch_data]\n",
    "        output = model(input_ids = input_ids, attention_mask=att_mask, labels= labels)\n",
    "        # print(\"logits***:\", output[\"logits\"])\n",
    "        \n",
    "        loss = output.loss\n",
    "        train_loss += loss.item()\n",
    "\n",
    "        model.zero_grad()\n",
    "        loss.backward()\n",
    "        del loss\n",
    "\n",
    "        clip_grad_norm_(parameters=model.parameters(), max_norm=1.0)\n",
    "        optimizer.step()\n",
    "        scheduler.step()\n",
    "\n",
    "    train_loss_per_epoch.append(train_loss / (step_num + 1))    \n",
    "    print(\"{0}/{1} train loss: {2} \".format(step_num+1, math.ceil(len(val_df) / BATCH_SIZE), train_loss / (step_num + 1)))\n",
    "    "
   ]
  },
  {
   "cell_type": "code",
   "execution_count": null,
   "metadata": {},
   "outputs": [],
   "source": []
  },
  {
   "cell_type": "code",
   "execution_count": null,
   "metadata": {},
   "outputs": [],
   "source": []
  },
  {
   "cell_type": "code",
   "execution_count": null,
   "metadata": {},
   "outputs": [],
   "source": []
  },
  {
   "cell_type": "code",
   "execution_count": null,
   "metadata": {},
   "outputs": [],
   "source": []
  },
  {
   "cell_type": "code",
   "execution_count": null,
   "metadata": {},
   "outputs": [],
   "source": []
  },
  {
   "cell_type": "code",
   "execution_count": null,
   "metadata": {},
   "outputs": [],
   "source": []
  },
  {
   "cell_type": "code",
   "execution_count": 15,
   "metadata": {},
   "outputs": [
    {
     "name": "stdout",
     "output_type": "stream",
     "text": [
      "5614\n",
      "3565\n",
      "3185\n",
      "2870\n",
      "3034\n",
      "3690\n",
      "3561\n",
      "2932\n",
      "4668\n",
      "3764\n",
      "4312\n",
      "3059\n",
      "4658\n",
      "4183\n",
      "3625\n",
      "3621\n",
      "6140\n",
      "3214\n",
      "6046\n",
      "4380\n",
      "4418\n",
      "4909\n",
      "3084\n",
      "4194\n",
      "3724\n",
      "2989\n",
      "2797\n",
      "3829\n",
      "5591\n",
      "5018\n",
      "5135\n",
      "5786\n",
      "5092\n",
      "3455\n",
      "3268\n",
      "2628\n",
      "2486\n",
      "3738\n",
      "5025\n",
      "3648\n",
      "5990\n",
      "3946\n",
      "5507\n",
      "3761\n",
      "3226\n",
      "3633\n",
      "4046\n",
      "2638\n",
      "2831\n",
      "3216\n",
      "3620\n",
      "2636\n",
      "3649\n",
      "5066\n",
      "2706\n",
      "2949\n",
      "4441\n",
      "4695\n",
      "5988\n",
      "2857\n",
      "3527\n",
      "2931\n",
      "4645\n",
      "4832\n",
      "2620\n",
      "3357\n",
      "2782\n",
      "2417\n",
      "2972\n",
      "2591\n",
      "3993\n",
      "3793\n",
      "2672\n",
      "4319\n",
      "1973\n",
      "5322\n",
      "5386\n",
      "5963\n",
      "333\n",
      "5250\n",
      "3162\n"
     ]
    }
   ],
   "source": [
    "new_chunk_df = pd.DataFrame()\n",
    "\n",
    "total_chunks = []   \n",
    "total_fnames = []\n",
    "total_labels = []\n",
    "total_chunk_counts = []\n",
    "\n",
    "chunks_count = 1\n",
    "for idx in range(sample_df.shape[0]):\n",
    "    x = sample_df[\"text\"].iloc[idx]\n",
    "    # print(\"##\",x)\n",
    "    sentences = re.split(r'(?<=[.!?])\\s+', x)\n",
    "    # print(\"**sentences:\",sentences)\n",
    "    print(len(sentences))\n",
    "    # break\n",
    "    max_sentence_length = 512 # Adjust the maximum sentence length as per your requirements\n",
    "    chunks = sentences\n",
    "    final_chunks = []\n",
    "    new_data = \"\"\n",
    "    index = 0\n",
    "    index1 = -1\n",
    "\n",
    "    for c_index,sentence in enumerate(chunks[index:index1]):\n",
    "        # print(\"each sentence lenght:\", len(sentence.split(\" \")))\n",
    "        if len(sentence.split(\" \")) <= max_sentence_length and len((new_data+sentence).split(\" \"))<= max_sentence_length:\n",
    "            new_data = new_data+sentence\n",
    "        else:\n",
    "            # print(\"next setence lenght:\", index, len(sentence.split(\" \")))\n",
    "            final_chunks.append(new_data)\n",
    "            new_data = \"\"\n",
    "            index = c_index\n",
    "        # break\n",
    "    # splitting up single doc\n",
    "    # texts = text_splitter.create_documents([sample_df[\"text\"].iloc[index]])\n",
    "    \n",
    "    chunks = [text for text in final_chunks]\n",
    "    fnames = [sample_df[\"FileName\"].iloc[idx]]*len(chunks)\n",
    "    labels = [sample_df[\"Level\"].iloc[idx]]*len(chunks)\n",
    "    chunk_counts = [f\"chunk_{i}\" for i in range(len(chunks))]\n",
    "\n",
    "    total_chunks.extend(chunks)\n",
    "    total_fnames.extend(fnames)\n",
    "    total_labels.extend(labels)\n",
    "    total_chunk_counts.extend(chunk_counts)\n",
    "\n",
    "new_chunk_df[\"filename\"] = total_fnames\n",
    "new_chunk_df[\"texts\"] = total_chunks\n",
    "new_chunk_df[\"labels\"] = total_labels\n",
    "new_chunk_df[\"chunks\"] = total_chunk_counts"
   ]
  },
  {
   "cell_type": "code",
   "execution_count": 7,
   "metadata": {},
   "outputs": [
    {
     "data": {
      "text/html": [
       "<div>\n",
       "<style scoped>\n",
       "    .dataframe tbody tr th:only-of-type {\n",
       "        vertical-align: middle;\n",
       "    }\n",
       "\n",
       "    .dataframe tbody tr th {\n",
       "        vertical-align: top;\n",
       "    }\n",
       "\n",
       "    .dataframe thead th {\n",
       "        text-align: right;\n",
       "    }\n",
       "</style>\n",
       "<table border=\"1\" class=\"dataframe\">\n",
       "  <thead>\n",
       "    <tr style=\"text-align: right;\">\n",
       "      <th></th>\n",
       "      <th>filename</th>\n",
       "      <th>texts</th>\n",
       "      <th>labels</th>\n",
       "      <th>chunks</th>\n",
       "    </tr>\n",
       "  </thead>\n",
       "  <tbody>\n",
       "    <tr>\n",
       "      <th>0</th>\n",
       "      <td>15031-5421-FullBook.docx</td>\n",
       "      <td>Clinical Cases in Augmentative and Alternative...</td>\n",
       "      <td>Level 1</td>\n",
       "      <td>chunk_0</td>\n",
       "    </tr>\n",
       "    <tr>\n",
       "      <th>1</th>\n",
       "      <td>15031-5421-FullBook.docx</td>\n",
       "      <td>British Library Cataloguing-in-Publication Dat...</td>\n",
       "      <td>Level 1</td>\n",
       "      <td>chunk_1</td>\n",
       "    </tr>\n",
       "    <tr>\n",
       "      <th>2</th>\n",
       "      <td>15031-5421-FullBook.docx</td>\n",
       "      <td>I hope, therefore, that readers enjoy this lat...</td>\n",
       "      <td>Level 1</td>\n",
       "      <td>chunk_2</td>\n",
       "    </tr>\n",
       "    <tr>\n",
       "      <th>3</th>\n",
       "      <td>15031-5421-FullBook.docx</td>\n",
       "      <td>Sally is a Senior Lecturer in Speech and Langu...</td>\n",
       "      <td>Level 1</td>\n",
       "      <td>chunk_3</td>\n",
       "    </tr>\n",
       "    <tr>\n",
       "      <th>4</th>\n",
       "      <td>15031-5421-FullBook.docx</td>\n",
       "      <td>Nancy Harrington, M.A., CCC-SLP, ATP, is a spe...</td>\n",
       "      <td>Level 1</td>\n",
       "      <td>chunk_4</td>\n",
       "    </tr>\n",
       "    <tr>\n",
       "      <th>...</th>\n",
       "      <td>...</td>\n",
       "      <td>...</td>\n",
       "      <td>...</td>\n",
       "      <td>...</td>\n",
       "    </tr>\n",
       "    <tr>\n",
       "      <th>11199</th>\n",
       "      <td>15031-5393-FullBook.docx</td>\n",
       "      <td>Family Process, 31(2): 119-130.Bowlby, J.(1969...</td>\n",
       "      <td>Level 3</td>\n",
       "      <td>chunk_127</td>\n",
       "    </tr>\n",
       "    <tr>\n",
       "      <th>11200</th>\n",
       "      <td>15031-5393-FullBook.docx</td>\n",
       "      <td>(1997).Death talk: Conversations with children...</td>\n",
       "      <td>Level 3</td>\n",
       "      <td>chunk_128</td>\n",
       "    </tr>\n",
       "    <tr>\n",
       "      <th>11201</th>\n",
       "      <td>15031-5393-FullBook.docx</td>\n",
       "      <td>Psycho-Oncology Care Series.Oxford, UK: Oxford...</td>\n",
       "      <td>Level 3</td>\n",
       "      <td>chunk_129</td>\n",
       "    </tr>\n",
       "    <tr>\n",
       "      <th>11202</th>\n",
       "      <td>15031-5393-FullBook.docx</td>\n",
       "      <td>Retrieved from https://dulwichcentre.com.au/wp...</td>\n",
       "      <td>Level 3</td>\n",
       "      <td>chunk_130</td>\n",
       "    </tr>\n",
       "    <tr>\n",
       "      <th>11203</th>\n",
       "      <td>15031-5393-FullBook.docx</td>\n",
       "      <td>Stein, A.Dalton, L.Rapa, E.Bluebond-Langner, M...</td>\n",
       "      <td>Level 3</td>\n",
       "      <td>chunk_131</td>\n",
       "    </tr>\n",
       "  </tbody>\n",
       "</table>\n",
       "<p>11204 rows × 4 columns</p>\n",
       "</div>"
      ],
      "text/plain": [
       "                       filename  \\\n",
       "0      15031-5421-FullBook.docx   \n",
       "1      15031-5421-FullBook.docx   \n",
       "2      15031-5421-FullBook.docx   \n",
       "3      15031-5421-FullBook.docx   \n",
       "4      15031-5421-FullBook.docx   \n",
       "...                         ...   \n",
       "11199  15031-5393-FullBook.docx   \n",
       "11200  15031-5393-FullBook.docx   \n",
       "11201  15031-5393-FullBook.docx   \n",
       "11202  15031-5393-FullBook.docx   \n",
       "11203  15031-5393-FullBook.docx   \n",
       "\n",
       "                                                   texts   labels     chunks  \n",
       "0      Clinical Cases in Augmentative and Alternative...  Level 1    chunk_0  \n",
       "1      British Library Cataloguing-in-Publication Dat...  Level 1    chunk_1  \n",
       "2      I hope, therefore, that readers enjoy this lat...  Level 1    chunk_2  \n",
       "3      Sally is a Senior Lecturer in Speech and Langu...  Level 1    chunk_3  \n",
       "4      Nancy Harrington, M.A., CCC-SLP, ATP, is a spe...  Level 1    chunk_4  \n",
       "...                                                  ...      ...        ...  \n",
       "11199  Family Process, 31(2): 119-130.Bowlby, J.(1969...  Level 3  chunk_127  \n",
       "11200  (1997).Death talk: Conversations with children...  Level 3  chunk_128  \n",
       "11201  Psycho-Oncology Care Series.Oxford, UK: Oxford...  Level 3  chunk_129  \n",
       "11202  Retrieved from https://dulwichcentre.com.au/wp...  Level 3  chunk_130  \n",
       "11203  Stein, A.Dalton, L.Rapa, E.Bluebond-Langner, M...  Level 3  chunk_131  \n",
       "\n",
       "[11204 rows x 4 columns]"
      ]
     },
     "execution_count": 7,
     "metadata": {},
     "output_type": "execute_result"
    }
   ],
   "source": [
    "new_chunk_df"
   ]
  },
  {
   "cell_type": "code",
   "execution_count": 8,
   "metadata": {},
   "outputs": [
    {
     "data": {
      "text/plain": [
       "labels\n",
       "Level 2    4005\n",
       "Level 1    3731\n",
       "Level 3    3468\n",
       "Name: count, dtype: int64"
      ]
     },
     "execution_count": 8,
     "metadata": {},
     "output_type": "execute_result"
    }
   ],
   "source": [
    "new_chunk_df[\"labels\"].value_counts()"
   ]
  },
  {
   "cell_type": "code",
   "execution_count": 9,
   "metadata": {},
   "outputs": [],
   "source": [
    "# for i in range(new_chunk_df.shape[0]):\n",
    "#     text = new_chunk_df[\"texts\"].iloc[i]\n",
    "#     # print(text)\n",
    "#     print(len(text.split(' ')))\n",
    "    # break"
   ]
  },
  {
   "cell_type": "code",
   "execution_count": 10,
   "metadata": {},
   "outputs": [
    {
     "data": {
      "text/html": [
       "<div>\n",
       "<style scoped>\n",
       "    .dataframe tbody tr th:only-of-type {\n",
       "        vertical-align: middle;\n",
       "    }\n",
       "\n",
       "    .dataframe tbody tr th {\n",
       "        vertical-align: top;\n",
       "    }\n",
       "\n",
       "    .dataframe thead th {\n",
       "        text-align: right;\n",
       "    }\n",
       "</style>\n",
       "<table border=\"1\" class=\"dataframe\">\n",
       "  <thead>\n",
       "    <tr style=\"text-align: right;\">\n",
       "      <th></th>\n",
       "      <th>filename</th>\n",
       "      <th>texts</th>\n",
       "      <th>labels</th>\n",
       "      <th>chunks</th>\n",
       "    </tr>\n",
       "  </thead>\n",
       "  <tbody>\n",
       "    <tr>\n",
       "      <th>0</th>\n",
       "      <td>15031-5421-FullBook.docx</td>\n",
       "      <td>Clinical Cases in Augmentative and Alternative...</td>\n",
       "      <td>Level 1</td>\n",
       "      <td>chunk_0</td>\n",
       "    </tr>\n",
       "    <tr>\n",
       "      <th>1</th>\n",
       "      <td>15031-5421-FullBook.docx</td>\n",
       "      <td>British Library Cataloguing-in-Publication Dat...</td>\n",
       "      <td>Level 1</td>\n",
       "      <td>chunk_1</td>\n",
       "    </tr>\n",
       "    <tr>\n",
       "      <th>2</th>\n",
       "      <td>15031-5421-FullBook.docx</td>\n",
       "      <td>I hope, therefore, that readers enjoy this lat...</td>\n",
       "      <td>Level 1</td>\n",
       "      <td>chunk_2</td>\n",
       "    </tr>\n",
       "    <tr>\n",
       "      <th>3</th>\n",
       "      <td>15031-5421-FullBook.docx</td>\n",
       "      <td>Sally is a Senior Lecturer in Speech and Langu...</td>\n",
       "      <td>Level 1</td>\n",
       "      <td>chunk_3</td>\n",
       "    </tr>\n",
       "    <tr>\n",
       "      <th>4</th>\n",
       "      <td>15031-5421-FullBook.docx</td>\n",
       "      <td>Nancy Harrington, M.A., CCC-SLP, ATP, is a spe...</td>\n",
       "      <td>Level 1</td>\n",
       "      <td>chunk_4</td>\n",
       "    </tr>\n",
       "    <tr>\n",
       "      <th>...</th>\n",
       "      <td>...</td>\n",
       "      <td>...</td>\n",
       "      <td>...</td>\n",
       "      <td>...</td>\n",
       "    </tr>\n",
       "    <tr>\n",
       "      <th>11199</th>\n",
       "      <td>15031-5393-FullBook.docx</td>\n",
       "      <td>Family Process, 31(2): 119-130.Bowlby, J.(1969...</td>\n",
       "      <td>Level 3</td>\n",
       "      <td>chunk_127</td>\n",
       "    </tr>\n",
       "    <tr>\n",
       "      <th>11200</th>\n",
       "      <td>15031-5393-FullBook.docx</td>\n",
       "      <td>(1997).Death talk: Conversations with children...</td>\n",
       "      <td>Level 3</td>\n",
       "      <td>chunk_128</td>\n",
       "    </tr>\n",
       "    <tr>\n",
       "      <th>11201</th>\n",
       "      <td>15031-5393-FullBook.docx</td>\n",
       "      <td>Psycho-Oncology Care Series.Oxford, UK: Oxford...</td>\n",
       "      <td>Level 3</td>\n",
       "      <td>chunk_129</td>\n",
       "    </tr>\n",
       "    <tr>\n",
       "      <th>11202</th>\n",
       "      <td>15031-5393-FullBook.docx</td>\n",
       "      <td>Retrieved from https://dulwichcentre.com.au/wp...</td>\n",
       "      <td>Level 3</td>\n",
       "      <td>chunk_130</td>\n",
       "    </tr>\n",
       "    <tr>\n",
       "      <th>11203</th>\n",
       "      <td>15031-5393-FullBook.docx</td>\n",
       "      <td>Stein, A.Dalton, L.Rapa, E.Bluebond-Langner, M...</td>\n",
       "      <td>Level 3</td>\n",
       "      <td>chunk_131</td>\n",
       "    </tr>\n",
       "  </tbody>\n",
       "</table>\n",
       "<p>11204 rows × 4 columns</p>\n",
       "</div>"
      ],
      "text/plain": [
       "                       filename  \\\n",
       "0      15031-5421-FullBook.docx   \n",
       "1      15031-5421-FullBook.docx   \n",
       "2      15031-5421-FullBook.docx   \n",
       "3      15031-5421-FullBook.docx   \n",
       "4      15031-5421-FullBook.docx   \n",
       "...                         ...   \n",
       "11199  15031-5393-FullBook.docx   \n",
       "11200  15031-5393-FullBook.docx   \n",
       "11201  15031-5393-FullBook.docx   \n",
       "11202  15031-5393-FullBook.docx   \n",
       "11203  15031-5393-FullBook.docx   \n",
       "\n",
       "                                                   texts   labels     chunks  \n",
       "0      Clinical Cases in Augmentative and Alternative...  Level 1    chunk_0  \n",
       "1      British Library Cataloguing-in-Publication Dat...  Level 1    chunk_1  \n",
       "2      I hope, therefore, that readers enjoy this lat...  Level 1    chunk_2  \n",
       "3      Sally is a Senior Lecturer in Speech and Langu...  Level 1    chunk_3  \n",
       "4      Nancy Harrington, M.A., CCC-SLP, ATP, is a spe...  Level 1    chunk_4  \n",
       "...                                                  ...      ...        ...  \n",
       "11199  Family Process, 31(2): 119-130.Bowlby, J.(1969...  Level 3  chunk_127  \n",
       "11200  (1997).Death talk: Conversations with children...  Level 3  chunk_128  \n",
       "11201  Psycho-Oncology Care Series.Oxford, UK: Oxford...  Level 3  chunk_129  \n",
       "11202  Retrieved from https://dulwichcentre.com.au/wp...  Level 3  chunk_130  \n",
       "11203  Stein, A.Dalton, L.Rapa, E.Bluebond-Langner, M...  Level 3  chunk_131  \n",
       "\n",
       "[11204 rows x 4 columns]"
      ]
     },
     "execution_count": 10,
     "metadata": {},
     "output_type": "execute_result"
    }
   ],
   "source": [
    "new_chunk_df[\"texts\"] = new_chunk_df[\"texts\"].str.strip()\n",
    "new_chunk_df"
   ]
  },
  {
   "cell_type": "code",
   "execution_count": 11,
   "metadata": {},
   "outputs": [
    {
     "data": {
      "text/html": [
       "<div>\n",
       "<style scoped>\n",
       "    .dataframe tbody tr th:only-of-type {\n",
       "        vertical-align: middle;\n",
       "    }\n",
       "\n",
       "    .dataframe tbody tr th {\n",
       "        vertical-align: top;\n",
       "    }\n",
       "\n",
       "    .dataframe thead th {\n",
       "        text-align: right;\n",
       "    }\n",
       "</style>\n",
       "<table border=\"1\" class=\"dataframe\">\n",
       "  <thead>\n",
       "    <tr style=\"text-align: right;\">\n",
       "      <th></th>\n",
       "      <th>filename</th>\n",
       "      <th>texts</th>\n",
       "      <th>labels</th>\n",
       "      <th>chunks</th>\n",
       "    </tr>\n",
       "  </thead>\n",
       "  <tbody>\n",
       "    <tr>\n",
       "      <th>0</th>\n",
       "      <td>15031-5421-FullBook.docx</td>\n",
       "      <td>Clinical Cases in Augmentative and Alternative...</td>\n",
       "      <td>Level 1</td>\n",
       "      <td>chunk_0</td>\n",
       "    </tr>\n",
       "    <tr>\n",
       "      <th>1</th>\n",
       "      <td>15031-5421-FullBook.docx</td>\n",
       "      <td>British Library Cataloguing-in-Publication Dat...</td>\n",
       "      <td>Level 1</td>\n",
       "      <td>chunk_1</td>\n",
       "    </tr>\n",
       "    <tr>\n",
       "      <th>2</th>\n",
       "      <td>15031-5421-FullBook.docx</td>\n",
       "      <td>I hope, therefore, that readers enjoy this lat...</td>\n",
       "      <td>Level 1</td>\n",
       "      <td>chunk_2</td>\n",
       "    </tr>\n",
       "    <tr>\n",
       "      <th>3</th>\n",
       "      <td>15031-5421-FullBook.docx</td>\n",
       "      <td>Sally is a Senior Lecturer in Speech and Langu...</td>\n",
       "      <td>Level 1</td>\n",
       "      <td>chunk_3</td>\n",
       "    </tr>\n",
       "    <tr>\n",
       "      <th>4</th>\n",
       "      <td>15031-5421-FullBook.docx</td>\n",
       "      <td>Nancy Harrington, M.A., CCC-SLP, ATP, is a spe...</td>\n",
       "      <td>Level 1</td>\n",
       "      <td>chunk_4</td>\n",
       "    </tr>\n",
       "    <tr>\n",
       "      <th>...</th>\n",
       "      <td>...</td>\n",
       "      <td>...</td>\n",
       "      <td>...</td>\n",
       "      <td>...</td>\n",
       "    </tr>\n",
       "    <tr>\n",
       "      <th>11199</th>\n",
       "      <td>15031-5393-FullBook.docx</td>\n",
       "      <td>Family Process, 31(2): 119-130.Bowlby, J.(1969...</td>\n",
       "      <td>Level 3</td>\n",
       "      <td>chunk_127</td>\n",
       "    </tr>\n",
       "    <tr>\n",
       "      <th>11200</th>\n",
       "      <td>15031-5393-FullBook.docx</td>\n",
       "      <td>(1997).Death talk: Conversations with children...</td>\n",
       "      <td>Level 3</td>\n",
       "      <td>chunk_128</td>\n",
       "    </tr>\n",
       "    <tr>\n",
       "      <th>11201</th>\n",
       "      <td>15031-5393-FullBook.docx</td>\n",
       "      <td>Psycho-Oncology Care Series.Oxford, UK: Oxford...</td>\n",
       "      <td>Level 3</td>\n",
       "      <td>chunk_129</td>\n",
       "    </tr>\n",
       "    <tr>\n",
       "      <th>11202</th>\n",
       "      <td>15031-5393-FullBook.docx</td>\n",
       "      <td>Retrieved from https://dulwichcentre.com.au/wp...</td>\n",
       "      <td>Level 3</td>\n",
       "      <td>chunk_130</td>\n",
       "    </tr>\n",
       "    <tr>\n",
       "      <th>11203</th>\n",
       "      <td>15031-5393-FullBook.docx</td>\n",
       "      <td>Stein, A.Dalton, L.Rapa, E.Bluebond-Langner, M...</td>\n",
       "      <td>Level 3</td>\n",
       "      <td>chunk_131</td>\n",
       "    </tr>\n",
       "  </tbody>\n",
       "</table>\n",
       "<p>11193 rows × 4 columns</p>\n",
       "</div>"
      ],
      "text/plain": [
       "                       filename  \\\n",
       "0      15031-5421-FullBook.docx   \n",
       "1      15031-5421-FullBook.docx   \n",
       "2      15031-5421-FullBook.docx   \n",
       "3      15031-5421-FullBook.docx   \n",
       "4      15031-5421-FullBook.docx   \n",
       "...                         ...   \n",
       "11199  15031-5393-FullBook.docx   \n",
       "11200  15031-5393-FullBook.docx   \n",
       "11201  15031-5393-FullBook.docx   \n",
       "11202  15031-5393-FullBook.docx   \n",
       "11203  15031-5393-FullBook.docx   \n",
       "\n",
       "                                                   texts   labels     chunks  \n",
       "0      Clinical Cases in Augmentative and Alternative...  Level 1    chunk_0  \n",
       "1      British Library Cataloguing-in-Publication Dat...  Level 1    chunk_1  \n",
       "2      I hope, therefore, that readers enjoy this lat...  Level 1    chunk_2  \n",
       "3      Sally is a Senior Lecturer in Speech and Langu...  Level 1    chunk_3  \n",
       "4      Nancy Harrington, M.A., CCC-SLP, ATP, is a spe...  Level 1    chunk_4  \n",
       "...                                                  ...      ...        ...  \n",
       "11199  Family Process, 31(2): 119-130.Bowlby, J.(1969...  Level 3  chunk_127  \n",
       "11200  (1997).Death talk: Conversations with children...  Level 3  chunk_128  \n",
       "11201  Psycho-Oncology Care Series.Oxford, UK: Oxford...  Level 3  chunk_129  \n",
       "11202  Retrieved from https://dulwichcentre.com.au/wp...  Level 3  chunk_130  \n",
       "11203  Stein, A.Dalton, L.Rapa, E.Bluebond-Langner, M...  Level 3  chunk_131  \n",
       "\n",
       "[11193 rows x 4 columns]"
      ]
     },
     "execution_count": 11,
     "metadata": {},
     "output_type": "execute_result"
    }
   ],
   "source": [
    "filtered_df = new_chunk_df[new_chunk_df['texts'].str.len() >= 100]\n",
    "filtered_df\n"
   ]
  },
  {
   "cell_type": "code",
   "execution_count": 12,
   "metadata": {},
   "outputs": [
    {
     "data": {
      "text/plain": [
       "0"
      ]
     },
     "execution_count": 12,
     "metadata": {},
     "output_type": "execute_result"
    }
   ],
   "source": [
    "filtered_df[\"filename\"].isna().sum()"
   ]
  },
  {
   "cell_type": "code",
   "execution_count": 13,
   "metadata": {},
   "outputs": [
    {
     "name": "stdout",
     "output_type": "stream",
     "text": [
      "yy Clinical Cases in Augmentative and Alternative Communication\n",
      "\n",
      "Clinical Cases in Augmentative and Alternative Communication provides a concise introduction to the rapidly expanding field of AAC.It brings together internationally renowned experts in the field to discuss its application and outline key principles of intervention to support communication using AAC.Carefully grounded in evidence-based clinical practice, the book highlights the diversity of potential applications for AAC across a wide range of client groups, including children and adults with developmental disabilities, as well as adults with acquired impairments.Most of the chapters are structured as case reports following CARE guidelines and highlight key principles for intervention that are grounded in clinical practice.The chapters also include reflections on communication through AAC and the valuable contributions that AAC can make in supporting independence and enhancing quality of life.This accessible book is ideal reading for students, novice clinicians in the fields of speech and language therapy or pathology or professionals who are new to this area of clinical practice.Martine M.Smith is Professor in Clinical Speech and Language Studies at Trinity College Dublin, Ireland.Her experience in the area of AAC stretches over three decades and is grounded in her clinical experience, research focus and teaching.A Past President of the International Society for Augmentative and Alternative Communication and former Editor-In-Chief of the flagship journal Augmentative and Alternative Communication (2015-2019), she has published extensively in the field and has an international reputation as a researcher.Clinical Cases in Speech and Language Disorders \n",
      "Clinical Cases in Speech and Language Disorders is a new series of short books that each focus on a specific speech and language disorder, providing an in-depth look at real or imagined scenarios, and discussing relevant assessment and intervention plans using theory, research findings, and clinical reasoning.The overall aim of these books is to provide much-needed resources using real-life clinical cases to help clinicians and students reflect on clinical decision making involving the assessment and management of patients presenting with various speech and language disorders (SLD).Titles in the series:\n",
      "Clinical Cases in Dysarthria\n",
      "Edited by Margaret Walshe and Nick Miller\n",
      "Clinical Cases in Dysphagia\n",
      "Edited by Margaret Walshe and Maggie-Lee Huckabee\n",
      "\n",
      "Clinical Cases in Dysfluency\n",
      "Edited by Margaret M.Leahy and Kurt Eggers\n",
      "\n",
      "\n",
      "\n",
      "\n",
      "\n",
      "\n",
      "For more information about this series, please visit: https://www.routledge.com/Clinical-Cases-in-Speech-and-Language-Disorders/book-series/CCSLD\n",
      "\n",
      "\n",
      " \n",
      "\n",
      "\n",
      "\n",
      "\n",
      "Clinical Cases in Augmentative and Alternative Communication\n",
      "\n",
      "\n",
      "\n",
      "\n",
      "\n",
      "\n",
      "Edited by Martine M.Smith [0000-0003-2122-5607]\n",
      "\n",
      "\n",
      "\n",
      "\n",
      "\n",
      "\n",
      "\n",
      "\n",
      "\n",
      "\n",
      "\n",
      "Designed cover image: © Getty Images\n",
      "\n",
      "First published 2023\n",
      "by Routledge\n",
      "4 Park Square, Milton Park, Abingdon, Oxon OX14 4RN\n",
      "\n",
      "and by Routledge\n",
      "605 Third Avenue, New York, NY 10158\n",
      "\n",
      "Routledge is an imprint of the Taylor & Francis Group, an informa business\n",
      "\n",
      "© 2023 selection and editorial matter, Martine M.Smith; individual chapters, the contributors\n",
      "\n",
      "The right of Martine M.Smith to be identified as the authors of the editorial material, and of the authors for their individual chapters, has been asserted in accordance with sections 77 and 78 of the Copyright, Designs and Patents Act 1988.All rights reserved.No part of this book may be reprinted or reproduced or utilised in any form or by any electronic, mechanical, or other means, now known or hereafter invented, including photocopying and recording, or in any information storage or retrieval system, without permission in writing from the publishers.\n",
      "<class 'str'>\n"
     ]
    }
   ],
   "source": [
    "for i in range(filtered_df.shape[0]):\n",
    "    y = filtered_df[\"texts\"].iloc[i]\n",
    "    print(\"yy\",y)\n",
    "    print(type(y))\n",
    "    break"
   ]
  },
  {
   "cell_type": "code",
   "execution_count": 14,
   "metadata": {},
   "outputs": [
    {
     "data": {
      "text/plain": [
       "labels\n",
       "Level 2    4004\n",
       "Level 1    3731\n",
       "Level 3    3458\n",
       "Name: count, dtype: int64"
      ]
     },
     "execution_count": 14,
     "metadata": {},
     "output_type": "execute_result"
    }
   ],
   "source": [
    "filtered_df[\"labels\"].value_counts()"
   ]
  },
  {
   "cell_type": "code",
   "execution_count": 15,
   "metadata": {},
   "outputs": [
    {
     "data": {
      "text/plain": [
       "<Axes: xlabel='filename'>"
      ]
     },
     "execution_count": 15,
     "metadata": {},
     "output_type": "execute_result"
    },
    {
     "data": {
      "image/png": "[encoded data removed]",
      "text/plain": [
       "<Figure size 640x480 with 1 Axes>"
      ]
     },
     "metadata": {},
     "output_type": "display_data"
    }
   ],
   "source": [
    "ploting = filtered_df[\"filename\"].value_counts()\n",
    "ploting.plot.bar(x='filename', rot=90)"
   ]
  },
  {
   "cell_type": "code",
   "execution_count": 16,
   "metadata": {},
   "outputs": [],
   "source": [
    "level1_train = filtered_df[filtered_df[\"labels\"]==\"Level 1\"][\"filename\"].unique()[:20]\n",
    "level2_train = filtered_df[filtered_df[\"labels\"]==\"Level 2\"][\"filename\"].unique()[:20]\n",
    "level3_train = filtered_df[filtered_df[\"labels\"]==\"Level 3\"][\"filename\"].unique()[:20]\n",
    "\n",
    "level1_val= filtered_df[filtered_df[\"labels\"]==\"Level 1\"][\"filename\"].unique()[20:]\n",
    "level2_val = filtered_df[filtered_df[\"labels\"]==\"Level 2\"][\"filename\"].unique()[20:]\n",
    "level3_val = filtered_df[filtered_df[\"labels\"]==\"Level 3\"][\"filename\"].unique()[20:]"
   ]
  },
  {
   "cell_type": "code",
   "execution_count": 17,
   "metadata": {},
   "outputs": [],
   "source": [
    "train_indices = []\n",
    "for index in range(filtered_df.shape[0]):\n",
    "  f_name = filtered_df.iloc[index][\"filename\"]\n",
    "  if f_name in level1_train or f_name in level2_train or f_name in level3_train:\n",
    "    train_indices.append(index)\n",
    "\n",
    "val_indices = []\n",
    "for index in range(filtered_df.shape[0]):\n",
    "  f_name = filtered_df.iloc[index][\"filename\"]\n",
    "  if f_name in level1_val or f_name in level2_val or f_name in level3_val:\n",
    "    val_indices.append(index)"
   ]
  },
  {
   "cell_type": "code",
   "execution_count": 18,
   "metadata": {},
   "outputs": [
    {
     "data": {
      "text/plain": [
       "(8303, 2890)"
      ]
     },
     "execution_count": 18,
     "metadata": {},
     "output_type": "execute_result"
    }
   ],
   "source": [
    "len(train_indices), len(val_indices)"
   ]
  },
  {
   "cell_type": "code",
   "execution_count": 19,
   "metadata": {},
   "outputs": [],
   "source": [
    "new_train_df = new_chunk_df.iloc[train_indices].copy()\n",
    "new_val_df = new_chunk_df.iloc[val_indices].copy()\n"
   ]
  },
  {
   "cell_type": "code",
   "execution_count": 20,
   "metadata": {},
   "outputs": [
    {
     "data": {
      "text/plain": [
       "<Axes: xlabel='filename'>"
      ]
     },
     "execution_count": 20,
     "metadata": {},
     "output_type": "execute_result"
    },
    {
     "data": {
      "image/png": "[encoded data removed]",
      "text/plain": [
       "<Figure size 640x480 with 1 Axes>"
      ]
     },
     "metadata": {},
     "output_type": "display_data"
    }
   ],
   "source": [
    "new_train_df[\"filename\"].value_counts().plot(kind=\"bar\",rot=90)"
   ]
  },
  {
   "cell_type": "code",
   "execution_count": 21,
   "metadata": {},
   "outputs": [
    {
     "data": {
      "text/plain": [
       "labels\n",
       "Level 2    3002\n",
       "Level 1    2774\n",
       "Level 3    2527\n",
       "Name: count, dtype: int64"
      ]
     },
     "execution_count": 21,
     "metadata": {},
     "output_type": "execute_result"
    }
   ],
   "source": [
    "new_train_df[\"labels\"].value_counts()"
   ]
  },
  {
   "cell_type": "code",
   "execution_count": 22,
   "metadata": {},
   "outputs": [
    {
     "data": {
      "text/html": [
       "<div>\n",
       "<style scoped>\n",
       "    .dataframe tbody tr th:only-of-type {\n",
       "        vertical-align: middle;\n",
       "    }\n",
       "\n",
       "    .dataframe tbody tr th {\n",
       "        vertical-align: top;\n",
       "    }\n",
       "\n",
       "    .dataframe thead th {\n",
       "        text-align: right;\n",
       "    }\n",
       "</style>\n",
       "<table border=\"1\" class=\"dataframe\">\n",
       "  <thead>\n",
       "    <tr style=\"text-align: right;\">\n",
       "      <th></th>\n",
       "      <th>filename</th>\n",
       "      <th>texts</th>\n",
       "      <th>labels</th>\n",
       "      <th>chunks</th>\n",
       "    </tr>\n",
       "  </thead>\n",
       "  <tbody>\n",
       "    <tr>\n",
       "      <th>0</th>\n",
       "      <td>15031-5421-FullBook.docx</td>\n",
       "      <td>Clinical Cases in Augmentative and Alternative...</td>\n",
       "      <td>Level 1</td>\n",
       "      <td>chunk_0</td>\n",
       "    </tr>\n",
       "    <tr>\n",
       "      <th>1</th>\n",
       "      <td>15031-5421-FullBook.docx</td>\n",
       "      <td>British Library Cataloguing-in-Publication Dat...</td>\n",
       "      <td>Level 1</td>\n",
       "      <td>chunk_1</td>\n",
       "    </tr>\n",
       "    <tr>\n",
       "      <th>2</th>\n",
       "      <td>15031-5421-FullBook.docx</td>\n",
       "      <td>I hope, therefore, that readers enjoy this lat...</td>\n",
       "      <td>Level 1</td>\n",
       "      <td>chunk_2</td>\n",
       "    </tr>\n",
       "    <tr>\n",
       "      <th>3</th>\n",
       "      <td>15031-5421-FullBook.docx</td>\n",
       "      <td>Sally is a Senior Lecturer in Speech and Langu...</td>\n",
       "      <td>Level 1</td>\n",
       "      <td>chunk_3</td>\n",
       "    </tr>\n",
       "    <tr>\n",
       "      <th>4</th>\n",
       "      <td>15031-5421-FullBook.docx</td>\n",
       "      <td>Nancy Harrington, M.A., CCC-SLP, ATP, is a spe...</td>\n",
       "      <td>Level 1</td>\n",
       "      <td>chunk_4</td>\n",
       "    </tr>\n",
       "    <tr>\n",
       "      <th>...</th>\n",
       "      <td>...</td>\n",
       "      <td>...</td>\n",
       "      <td>...</td>\n",
       "      <td>...</td>\n",
       "    </tr>\n",
       "    <tr>\n",
       "      <th>10258</th>\n",
       "      <td>15032-5829-FullBook.docx</td>\n",
       "      <td>This explains the prevalence of the term guomi...</td>\n",
       "      <td>Level 3</td>\n",
       "      <td>chunk_79</td>\n",
       "    </tr>\n",
       "    <tr>\n",
       "      <th>10259</th>\n",
       "      <td>15032-5829-FullBook.docx</td>\n",
       "      <td>China, as it is known today, only became the o...</td>\n",
       "      <td>Level 3</td>\n",
       "      <td>chunk_80</td>\n",
       "    </tr>\n",
       "    <tr>\n",
       "      <th>10260</th>\n",
       "      <td>15032-5829-FullBook.docx</td>\n",
       "      <td>Northwest Journal of Ethnicity ( 西北民族研究 ), 95 ...</td>\n",
       "      <td>Level 3</td>\n",
       "      <td>chunk_81</td>\n",
       "    </tr>\n",
       "    <tr>\n",
       "      <th>10261</th>\n",
       "      <td>15032-5829-FullBook.docx</td>\n",
       "      <td>Drawing on Spencer’s (2008; 2012) and Radcliff...</td>\n",
       "      <td>Level 3</td>\n",
       "      <td>chunk_82</td>\n",
       "    </tr>\n",
       "    <tr>\n",
       "      <th>10262</th>\n",
       "      <td>15032-5829-FullBook.docx</td>\n",
       "      <td>From an organic society’s perspective, social ...</td>\n",
       "      <td>Level 3</td>\n",
       "      <td>chunk_83</td>\n",
       "    </tr>\n",
       "  </tbody>\n",
       "</table>\n",
       "<p>8303 rows × 4 columns</p>\n",
       "</div>"
      ],
      "text/plain": [
       "                       filename  \\\n",
       "0      15031-5421-FullBook.docx   \n",
       "1      15031-5421-FullBook.docx   \n",
       "2      15031-5421-FullBook.docx   \n",
       "3      15031-5421-FullBook.docx   \n",
       "4      15031-5421-FullBook.docx   \n",
       "...                         ...   \n",
       "10258  15032-5829-FullBook.docx   \n",
       "10259  15032-5829-FullBook.docx   \n",
       "10260  15032-5829-FullBook.docx   \n",
       "10261  15032-5829-FullBook.docx   \n",
       "10262  15032-5829-FullBook.docx   \n",
       "\n",
       "                                                   texts   labels    chunks  \n",
       "0      Clinical Cases in Augmentative and Alternative...  Level 1   chunk_0  \n",
       "1      British Library Cataloguing-in-Publication Dat...  Level 1   chunk_1  \n",
       "2      I hope, therefore, that readers enjoy this lat...  Level 1   chunk_2  \n",
       "3      Sally is a Senior Lecturer in Speech and Langu...  Level 1   chunk_3  \n",
       "4      Nancy Harrington, M.A., CCC-SLP, ATP, is a spe...  Level 1   chunk_4  \n",
       "...                                                  ...      ...       ...  \n",
       "10258  This explains the prevalence of the term guomi...  Level 3  chunk_79  \n",
       "10259  China, as it is known today, only became the o...  Level 3  chunk_80  \n",
       "10260  Northwest Journal of Ethnicity ( 西北民族研究 ), 95 ...  Level 3  chunk_81  \n",
       "10261  Drawing on Spencer’s (2008; 2012) and Radcliff...  Level 3  chunk_82  \n",
       "10262  From an organic society’s perspective, social ...  Level 3  chunk_83  \n",
       "\n",
       "[8303 rows x 4 columns]"
      ]
     },
     "execution_count": 22,
     "metadata": {},
     "output_type": "execute_result"
    }
   ],
   "source": [
    "new_train_df"
   ]
  },
  {
   "cell_type": "code",
   "execution_count": 23,
   "metadata": {},
   "outputs": [],
   "source": [
    "new_train_df.to_csv('/home/ubuntu/working_directory/Bert_experimentation/train_new.csv')"
   ]
  },
  {
   "cell_type": "code",
   "execution_count": 25,
   "metadata": {},
   "outputs": [],
   "source": [
    "new_val_df.to_csv('/home/ubuntu/working_directory/Bert_experimentation/val_new.csv')"
   ]
  },
  {
   "cell_type": "code",
   "execution_count": 71,
   "metadata": {},
   "outputs": [],
   "source": [
    "# for i in final_chunks:\n",
    "#     print(i)\n",
    "#     print(len(i.split(' ')))"
   ]
  },
  {
   "cell_type": "code",
   "execution_count": null,
   "metadata": {},
   "outputs": [],
   "source": []
  }
 ],
 "metadata": {
  "kernelspec": {
   "display_name": "Python 3.10.10 ('pytorch')",
   "language": "python",
   "name": "python3"
  },
  "language_info": {
   "codemirror_mode": {
    "name": "ipython",
    "version": 3
   },
   "file_extension": ".py",
   "mimetype": "text/x-python",
   "name": "python",
   "nbconvert_exporter": "python",
   "pygments_lexer": "ipython3",
   "version": "3.10.10"
  },
  "orig_nbformat": 4,
  "vscode": {
   "interpreter": {
    "hash": "2d58e898dde0263bc564c6968b04150abacfd33eed9b19aaa8e45c040360e146"
   }
  }
 },
 "nbformat": 4,
 "nbformat_minor": 2
}
