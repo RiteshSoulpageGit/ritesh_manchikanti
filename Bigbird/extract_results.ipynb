{
 "cells": [
  {
   "cell_type": "code",
   "execution_count": 1,
   "metadata": {},
   "outputs": [],
   "source": [
    "import re\n",
    "\n",
    "filename = \"./ddp_2/final_results.txt\"  # Replace with the actual filename\n",
    "label_list = []\n",
    "true_list = []\n",
    "predicted_list = []\n",
    "with open(filename, \"r\") as file:\n",
    "    for line in file:\n",
    "        match = re.search(r\"True label vs predicted label Level (\\d+) Level (\\d+)\", line)\n",
    "        if match:\n",
    "            true_label = int(match.group(1))\n",
    "            true_list.append(true_label)\n",
    "            predicted_label = int(match.group(2))\n",
    "            predicted_list.append(predicted_label)\n",
    "            label_list.append((true_label, predicted_label))\n",
    "\n",
    "# print(label_list)\n"
   ]
  },
  {
   "cell_type": "code",
   "execution_count": 2,
   "metadata": {},
   "outputs": [
    {
     "data": {
      "text/plain": [
       "[]"
      ]
     },
     "execution_count": 2,
     "metadata": {},
     "output_type": "execute_result"
    }
   ],
   "source": [
    "label_list"
   ]
  },
  {
   "cell_type": "code",
   "execution_count": 3,
   "metadata": {},
   "outputs": [
    {
     "ename": "ZeroDivisionError",
     "evalue": "division by zero",
     "output_type": "error",
     "traceback": [
      "\u001b[0;31m---------------------------------------------------------------------------\u001b[0m",
      "\u001b[0;31mZeroDivisionError\u001b[0m                         Traceback (most recent call last)",
      "Cell \u001b[0;32mIn[3], line 3\u001b[0m\n\u001b[1;32m      1\u001b[0m total_samples \u001b[38;5;241m=\u001b[39m \u001b[38;5;28mlen\u001b[39m(true_list)\n\u001b[1;32m      2\u001b[0m correct_predictions \u001b[38;5;241m=\u001b[39m \u001b[38;5;28msum\u001b[39m(\u001b[38;5;241m1\u001b[39m \u001b[38;5;28;01mfor\u001b[39;00m true, pred \u001b[38;5;129;01min\u001b[39;00m \u001b[38;5;28mzip\u001b[39m(true_list, predicted_list) \u001b[38;5;28;01mif\u001b[39;00m true \u001b[38;5;241m==\u001b[39m pred)\n\u001b[0;32m----> 3\u001b[0m accuracy \u001b[38;5;241m=\u001b[39m (\u001b[43mcorrect_predictions\u001b[49m\u001b[43m \u001b[49m\u001b[38;5;241;43m/\u001b[39;49m\u001b[43m \u001b[49m\u001b[43mtotal_samples\u001b[49m) \u001b[38;5;241m*\u001b[39m \u001b[38;5;241m100\u001b[39m\n\u001b[1;32m      5\u001b[0m \u001b[38;5;28mprint\u001b[39m(\u001b[38;5;124mf\u001b[39m\u001b[38;5;124m\"\u001b[39m\u001b[38;5;124mAccuracy: \u001b[39m\u001b[38;5;132;01m{\u001b[39;00maccuracy\u001b[38;5;132;01m:\u001b[39;00m\u001b[38;5;124m.2f\u001b[39m\u001b[38;5;132;01m}\u001b[39;00m\u001b[38;5;124m%\u001b[39m\u001b[38;5;124m\"\u001b[39m)\n",
      "\u001b[0;31mZeroDivisionError\u001b[0m: division by zero"
     ]
    }
   ],
   "source": [
    "total_samples = len(true_list)\n",
    "correct_predictions = sum(1 for true, pred in zip(true_list, predicted_list) if true == pred)\n",
    "accuracy = (correct_predictions / total_samples) * 100\n",
    "\n",
    "print(f\"Accuracy: {accuracy:.2f}%\")"
   ]
  },
  {
   "cell_type": "code",
   "execution_count": 8,
   "metadata": {},
   "outputs": [],
   "source": [
    "import re\n",
    "\n",
    "filename = \"./savedmodel_2/new_df_results.txt\" \n",
    "# Replace with the actual filename\n",
    "filename = \"./ddp_2/final_results.txt\"\n",
    "label_list = []\n",
    "true_list = []\n",
    "predicted_list = []\n",
    "level_1_true = []\n",
    "level_2_true = []\n",
    "level_3_true = []\n",
    "level_1_pred = []\n",
    "level_2_pred = []\n",
    "level_3_pred = []\n",
    "\n",
    "with open(filename, \"r\") as file:\n",
    "    for line in file:\n",
    "        match = re.search(r\"True label vs predicted label (\\S+) Level (\\d+) Level (\\d+)\", line)\n",
    "        if match:\n",
    "            filename = match.group(1)\n",
    "            # print(filename)\n",
    "            true_label = int(match.group(2))\n",
    "            predicted_label = int(match.group(3))\n",
    "            if true_label == 1:\n",
    "                level_1_true.append(true_label)\n",
    "                level_1_pred.append(predicted_label)\n",
    "            elif true_label == 2:\n",
    "                level_2_true.append(true_label)\n",
    "                level_2_pred.append(predicted_label)\n",
    "            else:\n",
    "                level_3_true.append(true_label)\n",
    "                level_3_pred.append(predicted_label)\n",
    "            true_list.append(true_label)\n",
    "            predicted_list.append(predicted_label)\n",
    "            label_list.append((filename, true_label, predicted_label))\n",
    "\n",
    "# print(label_list)\n"
   ]
  },
  {
   "cell_type": "code",
   "execution_count": 12,
   "metadata": {},
   "outputs": [
    {
     "name": "stdout",
     "output_type": "stream",
     "text": [
      "Accuracy: 100.00%\n"
     ]
    }
   ],
   "source": [
    "total_samples = len(level_3_true)\n",
    "correct_predictions = sum(1 for true, pred in zip(level_3_true, level_3_pred) if true == pred)\n",
    "accuracy = (correct_predictions / total_samples) * 100\n",
    "\n",
    "print(f\"Accuracy: {accuracy:.2f}%\")"
   ]
  },
  {
   "cell_type": "code",
   "execution_count": 10,
   "metadata": {},
   "outputs": [
    {
     "name": "stdout",
     "output_type": "stream",
     "text": [
      "Accuracy: 85.29%\n"
     ]
    }
   ],
   "source": [
    "total_samples = len(true_list)\n",
    "correct_predictions = sum(1 for true, pred in zip(true_list, predicted_list) if true == pred)\n",
    "accuracy = (correct_predictions / total_samples) * 100\n",
    "\n",
    "print(f\"Accuracy: {accuracy:.2f}%\")"
   ]
  },
  {
   "cell_type": "code",
   "execution_count": 13,
   "metadata": {},
   "outputs": [
    {
     "name": "stdout",
     "output_type": "stream",
     "text": [
      "              Predicted Label 1  Predicted Label 2  Predicted Label 3\n",
      "True Label 1                745                118                 17\n",
      "True Label 2                  8                 91                  2\n",
      "True Label 3                  0                  0                  5\n"
     ]
    }
   ],
   "source": [
    "import pandas as pd\n",
    "from sklearn.metrics import confusion_matrix\n",
    "\n",
    "# Calculate the confusion matrix\n",
    "cm = confusion_matrix(true_list, predicted_list)\n",
    "\n",
    "# Convert the confusion matrix to a pandas DataFrame for better visualization\n",
    "cm_df = pd.DataFrame(cm, index=['True Label 1', 'True Label 2', 'True Label 3'], columns=['Predicted Label 1', 'Predicted Label 2', 'Predicted Label 3'])\n",
    "\n",
    "# Print the confusion matrix\n",
    "print(cm_df)\n"
   ]
  },
  {
   "cell_type": "code",
   "execution_count": 15,
   "metadata": {},
   "outputs": [],
   "source": [
    "label_list\n",
    "level_true_list = []\n",
    "level_pred_list = []\n",
    "for i in label_list:\n",
    "    t = i[1]\n",
    "    p = i[2]\n",
    "    if t == 3:\n",
    "        level_true_list.append(t)\n",
    "        level_pred_list.append(p)\n"
   ]
  },
  {
   "cell_type": "code",
   "execution_count": 16,
   "metadata": {},
   "outputs": [
    {
     "name": "stdout",
     "output_type": "stream",
     "text": [
      "Accuracy: 100.00%\n"
     ]
    }
   ],
   "source": [
    "total_samples = len(level_true_list)\n",
    "correct_predictions = sum(1 for true, pred in zip(level_true_list, level_pred_list) if true == pred)\n",
    "accuracy = (correct_predictions / total_samples) * 100\n",
    "\n",
    "print(f\"Accuracy: {accuracy:.2f}%\")"
   ]
  },
  {
   "cell_type": "code",
   "execution_count": 7,
   "metadata": {},
   "outputs": [
    {
     "name": "stdout",
     "output_type": "stream",
     "text": [
      "Accuracy: 60.29%\n"
     ]
    }
   ],
   "source": [
    "total_samples = len(true_list)\n",
    "correct_predictions = sum(1 for true, pred in zip(true_list, predicted_list) if true == pred)\n",
    "accuracy = (correct_predictions / total_samples) * 100\n",
    "\n",
    "print(f\"Accuracy: {accuracy:.2f}%\")"
   ]
  },
  {
   "cell_type": "markdown",
   "metadata": {},
   "source": [
    "level - 1 57\n",
    "level - 2 65\n",
    "level - 3 100\n",
    "\n"
   ]
  },
  {
   "cell_type": "code",
   "execution_count": 12,
   "metadata": {},
   "outputs": [
    {
     "ename": "SyntaxError",
     "evalue": "invalid syntax (630307710.py, line 1)",
     "output_type": "error",
     "traceback": [
      "\u001b[0;36m  Cell \u001b[0;32mIn[12], line 1\u001b[0;36m\u001b[0m\n\u001b[0;31m    level - 1 57\u001b[0m\n\u001b[0m              ^\u001b[0m\n\u001b[0;31mSyntaxError\u001b[0m\u001b[0;31m:\u001b[0m invalid syntax\n"
     ]
    }
   ],
   "source": []
  },
  {
   "cell_type": "code",
   "execution_count": null,
   "metadata": {},
   "outputs": [],
   "source": []
  }
 ],
 "metadata": {
  "kernelspec": {
   "display_name": "Python 3.10.10 ('pytorch')",
   "language": "python",
   "name": "python3"
  },
  "language_info": {
   "codemirror_mode": {
    "name": "ipython",
    "version": 3
   },
   "file_extension": ".py",
   "mimetype": "text/x-python",
   "name": "python",
   "nbconvert_exporter": "python",
   "pygments_lexer": "ipython3",
   "version": "3.10.10"
  },
  "orig_nbformat": 4,
  "vscode": {
   "interpreter": {
    "hash": "2d58e898dde0263bc564c6968b04150abacfd33eed9b19aaa8e45c040360e146"
   }
  }
 },
 "nbformat": 4,
 "nbformat_minor": 2
}
