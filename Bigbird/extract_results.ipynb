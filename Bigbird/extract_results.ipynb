{
 "cells": [
  {
   "cell_type": "code",
   "execution_count": 9,
   "metadata": {},
   "outputs": [],
   "source": [
    "import re\n",
    "\n",
    "filename = \"./Level_all_results.txt\"  # Replace with the actual filename\n",
    "label_list = []\n",
    "true_list = []\n",
    "predicted_list = []\n",
    "with open(filename, \"r\") as file:\n",
    "    for line in file:\n",
    "        match = re.search(r\"True label vs predicted label Level (\\d+) Level (\\d+)\", line)\n",
    "        if match:\n",
    "            true_label = int(match.group(1))\n",
    "            true_list.append(true_label)\n",
    "            predicted_label = int(match.group(2))\n",
    "            predicted_list.append(predicted_label)\n",
    "            label_list.append((true_label, predicted_label))\n",
    "\n",
    "# print(label_list)\n"
   ]
  },
  {
   "cell_type": "code",
   "execution_count": 10,
   "metadata": {},
   "outputs": [
    {
     "name": "stdout",
     "output_type": "stream",
     "text": [
      "Accuracy: 80.00%\n"
     ]
    }
   ],
   "source": [
    "total_samples = len(true_list)\n",
    "correct_predictions = sum(1 for true, pred in zip(true_list, predicted_list) if true == pred)\n",
    "accuracy = (correct_predictions / total_samples) * 100\n",
    "\n",
    "print(f\"Accuracy: {accuracy:.2f}%\")"
   ]
  },
  {
   "cell_type": "code",
   "execution_count": null,
   "metadata": {},
   "outputs": [],
   "source": []
  }
 ],
 "metadata": {
  "kernelspec": {
   "display_name": "Python 3.10.10 ('pytorch')",
   "language": "python",
   "name": "python3"
  },
  "language_info": {
   "codemirror_mode": {
    "name": "ipython",
    "version": 3
   },
   "file_extension": ".py",
   "mimetype": "text/x-python",
   "name": "python",
   "nbconvert_exporter": "python",
   "pygments_lexer": "ipython3",
   "version": "3.10.10"
  },
  "orig_nbformat": 4,
  "vscode": {
   "interpreter": {
    "hash": "2d58e898dde0263bc564c6968b04150abacfd33eed9b19aaa8e45c040360e146"
   }
  }
 },
 "nbformat": 4,
 "nbformat_minor": 2
}
