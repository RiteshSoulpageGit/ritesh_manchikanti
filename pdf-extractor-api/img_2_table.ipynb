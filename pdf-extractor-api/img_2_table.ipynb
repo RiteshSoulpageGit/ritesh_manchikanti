{
 "cells": [
  {
   "cell_type": "code",
   "execution_count": 1,
   "metadata": {},
   "outputs": [],
   "source": [
    "from img2table.document import Image\n",
    "\n",
    "# Instantiation of the image\n",
    "img = Image(src=\"./table_ss.png\")\n",
    "\n",
    "# Table identification\n",
    "img_tables = img.extract_tables()"
   ]
  },
  {
   "cell_type": "code",
   "execution_count": 2,
   "metadata": {},
   "outputs": [
    {
     "data": {
      "text/plain": [
       "[ExtractedTable(title=None, bbox=(31, 72, 1924, 281),shape=(2, 4))]"
      ]
     },
     "execution_count": 2,
     "metadata": {},
     "output_type": "execute_result"
    }
   ],
   "source": [
    "img_tables"
   ]
  },
  {
   "cell_type": "code",
   "execution_count": 3,
   "metadata": {},
   "outputs": [
    {
     "name": "stdout",
     "output_type": "stream",
     "text": [
      "tesseract 4.1.1\n",
      " leptonica-1.79.0\n",
      "  libgif 5.1.4 : libjpeg 8d (libjpeg-turbo 2.0.3) : libpng 1.6.37 : libtiff 4.1.0 : zlib 1.2.11 : libwebp 0.6.1 : libopenjp2 2.3.1\n",
      " Found AVX512BW\n",
      " Found AVX512F\n",
      " Found AVX2\n",
      " Found AVX\n",
      " Found FMA\n",
      " Found SSE\n",
      " Found libarchive 3.4.0 zlib/1.2.11 liblzma/5.2.4 bz2lib/1.0.8 liblz4/1.9.2 libzstd/1.4.4\n"
     ]
    }
   ],
   "source": [
    "from img2table.document import PDF\n",
    "from img2table.ocr import TesseractOCR\n",
    "\n",
    "# Instantiation of the pdf\n",
    "pdf = PDF(src=\"/home/ubuntu/ritesh_manchikanti/pdf-extractor-api/OCR_SANTOSH/291169012_suoypoa1rvi5puntbojalx12.pdf\")\n",
    "\n",
    "# Instantiation of the OCR, Tesseract, which requires prior installation\n",
    "ocr = TesseractOCR(lang=\"eng\")\n",
    "\n",
    "# Table identification and extraction\n",
    "pdf_tables = pdf.extract_tables(ocr=ocr)\n",
    "\n",
    "# We can also create an excel file with the tables\n",
    "pdf.to_xlsx('./tables.xlsx',\n",
    "            ocr=ocr)"
   ]
  },
  {
   "cell_type": "code",
   "execution_count": 37,
   "metadata": {},
   "outputs": [
    {
     "name": "stdout",
     "output_type": "stream",
     "text": [
      "tesseract 4.1.1\n",
      " leptonica-1.79.0\n",
      "  libgif 5.1.4 : libjpeg 8d (libjpeg-turbo 2.0.3) : libpng 1.6.37 : libtiff 4.1.0 : zlib 1.2.11 : libwebp 0.6.1 : libopenjp2 2.3.1\n",
      " Found AVX512BW\n",
      " Found AVX512F\n",
      " Found AVX2\n",
      " Found AVX\n",
      " Found FMA\n",
      " Found SSE\n",
      " Found libarchive 3.4.0 zlib/1.2.11 liblzma/5.2.4 bz2lib/1.0.8 liblz4/1.9.2 libzstd/1.4.4\n",
      "         Platelet Count  237.0 thou/mm3 150.00 - 410.00\n",
      "0  Mean Platelet Volume    7.6       fL      6.5 - 12.0\n",
      "[\n",
      "    {\n",
      "        \"Platelet Count\":\"Mean Platelet Volume\",\n",
      "        \"237.0\":7.6,\n",
      "        \"thou\\/mm3\":\"fL\",\n",
      "        \"150.00 - 410.00\":\"6.5 - 12.0\"\n",
      "    }\n",
      "]\n"
     ]
    }
   ],
   "source": [
    "from img2table.document import Image\n",
    "from img2table.ocr import TesseractOCR\n",
    "\n",
    "# Instantiation of the image\n",
    "img = Image(src=\"./table_ss.png\")\n",
    "\n",
    "# Instantiation of the OCR, Tesseract, which requires prior installation\n",
    "ocr = TesseractOCR(lang=\"eng\")\n",
    "\n",
    "# Table identification and extraction\n",
    "img_tables = img.extract_tables(ocr=ocr)\n",
    "\n",
    "# We can also create an excel file with the tables\n",
    "img.to_xlsx('./tables.xlsx', ocr=ocr)\n",
    "df = pd.read_excel('./tables.xlsx')\n",
    "print(df)\n",
    "json_data = df.to_json(orient='records', indent=4)\n",
    "print(json_data)            \n",
    "    \n"
   ]
  },
  {
   "cell_type": "code",
   "execution_count": 54,
   "metadata": {},
   "outputs": [
    {
     "name": "stdout",
     "output_type": "stream",
     "text": [
      "<class 'img2table.document.image.Image'>\n",
      "tesseract 4.1.1\n",
      " leptonica-1.79.0\n",
      "  libgif 5.1.4 : libjpeg 8d (libjpeg-turbo 2.0.3) : libpng 1.6.37 : libtiff 4.1.0 : zlib 1.2.11 : libwebp 0.6.1 : libopenjp2 2.3.1\n",
      " Found AVX512BW\n",
      " Found AVX512F\n",
      " Found AVX2\n",
      " Found AVX\n",
      " Found FMA\n",
      " Found SSE\n",
      " Found libarchive 3.4.0 zlib/1.2.11 liblzma/5.2.4 bz2lib/1.0.8 liblz4/1.9.2 libzstd/1.4.4\n",
      "[\n",
      "    {\n",
      "        \"Platelet Count\":\"Mean Platelet Volume\",\n",
      "        \"237.0\":7.6,\n",
      "        \"thou\\/mm3\":\"fL\",\n",
      "        \"150.00 - 410.00\":\"6.5 - 12.0\"\n",
      "    }\n",
      "]\n"
     ]
    }
   ],
   "source": [
    "from img2table.document import Image\n",
    "from img2table.ocr import TesseractOCR\n",
    "import pandas as pd\n",
    "from PIL import Image as PILImage\n",
    "\n",
    "def extract_table_as_json(image_path):\n",
    "    # Instantiation of the image\n",
    "    img = Image(src = image_path)\n",
    "    print(type(img))\n",
    "    ocr = TesseractOCR(lang=\"eng\")\n",
    "    # We can also create an excel file with the tables\n",
    "    img.to_xlsx('./tables.xlsx', ocr=ocr)\n",
    "    df = pd.read_excel('./tables.xlsx')\n",
    "    json_data = df.to_json(orient='records', indent=4)\n",
    "    return json_data\n",
    "\n",
    "# Example usage:\n",
    "image_path = \"./table_ss.png\"\n",
    "bounding_box = (31, 72, 1924, 281)\n",
    "result = extract_table_as_json(image_path)\n",
    "print(result)\n"
   ]
  },
  {
   "cell_type": "code",
   "execution_count": 4,
   "metadata": {},
   "outputs": [
    {
     "ename": "NameError",
     "evalue": "name 'img_tables' is not defined",
     "output_type": "error",
     "traceback": [
      "\u001b[0;31m---------------------------------------------------------------------------\u001b[0m",
      "\u001b[0;31mNameError\u001b[0m                                 Traceback (most recent call last)",
      "Cell \u001b[0;32mIn[4], line 1\u001b[0m\n\u001b[0;32m----> 1\u001b[0m \u001b[43mimg_tables\u001b[49m\n",
      "\u001b[0;31mNameError\u001b[0m: name 'img_tables' is not defined"
     ]
    }
   ],
   "source": [
    "img_tables"
   ]
  },
  {
   "cell_type": "code",
   "execution_count": 24,
   "metadata": {},
   "outputs": [
    {
     "name": "stdout",
     "output_type": "stream",
     "text": [
      "(2, 4)\n",
      "2, 4\n",
      "Number of Rows: 2\n",
      "Number of Columns: 4\n"
     ]
    }
   ],
   "source": [
    "table_info = \"Units, bbox=(31, 72, 1924, 281),shape=(2, 4)\"\n",
    "\n",
    "# Extract the shape from the string\n",
    "shape_str = table_info.split(\"shape=\")[1]\n",
    "print(shape_str)\n",
    "shape_str = shape_str.strip(\")\").replace(\"(\", \"\")\n",
    "print(shape_str)\n",
    "num_rows, num_cols = map(int, shape_str.split(\", \"))\n",
    "\n",
    "print(\"Number of Rows:\", num_rows)\n",
    "print(\"Number of Columns:\", num_cols)"
   ]
  },
  {
   "cell_type": "code",
   "execution_count": null,
   "metadata": {},
   "outputs": [],
   "source": []
  }
 ],
 "metadata": {
  "kernelspec": {
   "display_name": "Python 3.10.10 ('pytorch')",
   "language": "python",
   "name": "python3"
  },
  "language_info": {
   "codemirror_mode": {
    "name": "ipython",
    "version": 3
   },
   "file_extension": ".py",
   "mimetype": "text/x-python",
   "name": "python",
   "nbconvert_exporter": "python",
   "pygments_lexer": "ipython3",
   "version": "3.10.10"
  },
  "orig_nbformat": 4,
  "vscode": {
   "interpreter": {
    "hash": "2d58e898dde0263bc564c6968b04150abacfd33eed9b19aaa8e45c040360e146"
   }
  }
 },
 "nbformat": 4,
 "nbformat_minor": 2
}
