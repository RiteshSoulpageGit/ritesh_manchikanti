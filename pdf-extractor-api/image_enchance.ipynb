{
 "cells": [
  {
   "cell_type": "code",
   "execution_count": 2,
   "metadata": {},
   "outputs": [],
   "source": [
    "from PIL import Image\n",
    "from PIL import ImageEnhance\n",
    "from PIL import ImageFilter\n",
    "\n",
    "# Load the image\n",
    "\n",
    "image = Image.open(\"./output.png\").convert(\"L\")  # Convert to grayscale\n",
    "\n",
    "# Apply sharpening filter\n",
    "sharpened_image = image.filter(ImageFilter.SHARPEN)\n",
    "\n",
    "# Enhance contrast\n",
    "enhancer = ImageEnhance.Contrast(sharpened_image)\n",
    "contrast_enhanced_image = enhancer.enhance(1.5)  # Adjust the enhancement factor as needed\n",
    "\n",
    "# Save the processed image\n",
    "contrast_enhanced_image.save(\"./output_image.png\")\n"
   ]
  },
  {
   "cell_type": "code",
   "execution_count": 12,
   "metadata": {},
   "outputs": [
    {
     "data": {
      "text/plain": [
       "True"
      ]
     },
     "execution_count": 12,
     "metadata": {},
     "output_type": "execute_result"
    }
   ],
   "source": [
    "import cv2\n",
    "import numpy as np\n",
    "\n",
    "def preprocess_image(image):\n",
    "    # Denoising\n",
    "    denoised = cv2.medianBlur(image, 5)\n",
    "    \n",
    "    # Sharpening\n",
    "    blurred = cv2.GaussianBlur(image, (0, 0), 3)\n",
    "    sharpened = cv2.addWeighted(image, 1.5, blurred, -0.5, 0)\n",
    "    \n",
    "    # Contrast enhancement\n",
    "    lab = cv2.cvtColor(sharpened, cv2.COLOR_BGR2LAB)\n",
    "    lab_planes = list(cv2.split(lab))  # Convert to list\n",
    "    clahe = cv2.createCLAHE(clipLimit=2.0, tileGridSize=(8, 8))\n",
    "    lab_planes[0] = clahe.apply(lab_planes[0])\n",
    "    lab = cv2.merge(lab_planes)\n",
    "    enhanced = cv2.cvtColor(lab, cv2.COLOR_LAB2BGR)\n",
    "    \n",
    "    # # Binarization\n",
    "    # gray = cv2.cvtColor(enhanced, cv2.COLOR_BGR2GRAY)\n",
    "    # _, binary = cv2.threshold(gray, 0, 255, cv2.THRESH_BINARY_INV + cv2.THRESH_OTSU)\n",
    "    \n",
    "    # # Morphological operations\n",
    "    # kernel = cv2.getStructuringElement(cv2.MORPH_RECT, (3, 3))\n",
    "    # opened = cv2.morphologyEx(binary, cv2.MORPH_OPEN, kernel, iterations=1)\n",
    "    # closed = cv2.morphologyEx(opened, cv2.MORPH_CLOSE, kernel, iterations=1)\n",
    "    \n",
    "    # # Deskewing\n",
    "    # coords = np.column_stack(np.where(closed > 0))\n",
    "    # angle = cv2.minAreaRect(coords)[-1]\n",
    "    # if angle < -45:\n",
    "    #     angle = -(90 + angle)\n",
    "    # else:\n",
    "    #     angle = -angle\n",
    "    # (h, w) = closed.shape[:2]\n",
    "    # center = (w // 2, h // 2)\n",
    "    # rotation_matrix = cv2.getRotationMatrix2D(center, angle, 1.0)\n",
    "    # deskewed = cv2.warpAffine(closed, rotation_matrix, (w, h), flags=cv2.INTER_CUBIC, borderMode=cv2.BORDER_REPLICATE)\n",
    "    \n",
    "    return enhanced\n",
    "\n",
    "# Load the input image\n",
    "image = cv2.imread(\"./output.png\")\n",
    "\n",
    "# Preprocess the image\n",
    "preprocessed_image = preprocess_image(image)\n",
    "\n",
    "# Save the preprocessed image\n",
    "cv2.imwrite(\"./output_image.png\", preprocessed_image)\n"
   ]
  },
  {
   "cell_type": "code",
   "execution_count": 6,
   "metadata": {},
   "outputs": [
    {
     "name": "stdout",
     "output_type": "stream",
     "text": [
      "created a new folder\n"
     ]
    }
   ],
   "source": [
    "import os\n",
    "last_folder_num = 0\n",
    "existing_folders = [folder for folder in os.listdir(\"./img\") if folder.startswith(\"images\")]\n",
    "if existing_folders:\n",
    "    last_folder = max(existing_folders, key=lambda x: int(x.split(\"_\")[1]))\n",
    "    last_folder_num = int(last_folder.split(\"_\")[1])\n",
    "# Increment the folder number\n",
    "new_folder_num = last_folder_num + 1\n",
    "new_folder_path = f\"./img/images_{new_folder_num}\"\n",
    "\n",
    "# Create the new folder if it doesn't exist\n",
    "if not os.path.exists(new_folder_path):\n",
    "    os.makedirs(new_folder_path)\n",
    "    print(\"created a new folder\")\n",
    "    \n",
    "image = Image.fromarray(table_img)\n",
    "            # Save the image with an iterative name\n",
    "image.save(os.path.join(new_folder_path, f\"image{num}.png\"))"
   ]
  },
  {
   "cell_type": "code",
   "execution_count": null,
   "metadata": {},
   "outputs": [],
   "source": [
    "        last_image_num = 0\n",
    "        existing_images = [image for image in os.listdir(\"./l_img\") if image.startswith(\"line_\")]\n",
    "        if existing_images:\n",
    "            last_image = max(existing_images, key=lambda x: int(x.split(\"_\")[1].split(\".\")[0]))\n",
    "            last_image_num = int(last_image.split(\"_\")[1].split(\".\")[0])\n",
    "        # Increment the image number\n",
    "        new_image_num = last_image_num + 1\n",
    "        new_image_name = f\"./l_img/line_{new_image_num}.jpg\"\n",
    "        \n",
    "        # new_folder_path = f\"./l_img/line_{new_folder_num}.png\"\n",
    "        print(\"lines image saved as -\",new_image_name)"
   ]
  },
  {
   "cell_type": "code",
   "execution_count": 4,
   "metadata": {},
   "outputs": [],
   "source": [
    "import os\n",
    "import random\n",
    "from pdf2image import convert_from_path\n",
    "from PIL import Image\n",
    "\n",
    "def crop_random_images_from_pdf(pdf_path, output_dir, min_crop_size, max_crop_size, num_images_per_page=10):\n",
    "    # Convert PDF pages to images\n",
    "    images = convert_from_path(pdf_path)\n",
    "\n",
    "    # Create output directory if it doesn't exist\n",
    "    os.makedirs(output_dir, exist_ok=True)\n",
    "\n",
    "    for page_num, image in enumerate(images):\n",
    "        # Create a subdirectory for each page\n",
    "        page_dir = os.path.join(output_dir, f\"page_{page_num + 1}\")\n",
    "        os.makedirs(page_dir, exist_ok=True)\n",
    "\n",
    "        for i in range(num_images_per_page):\n",
    "            # Randomly select the crop size within the specified range\n",
    "            crop_width = random.randint(min_crop_size, max_crop_size)\n",
    "            crop_height = random.randint(min_crop_size, max_crop_size)\n",
    "\n",
    "            # Randomly select a crop position within the image\n",
    "            x = random.randint(0, image.width - crop_width)\n",
    "            y = random.randint(0, image.height - crop_height)\n",
    "\n",
    "            # Crop the image based on the randomly selected position and size\n",
    "            cropped_image = image.crop((x, y, x + crop_width, y + crop_height))\n",
    "\n",
    "            # Save the cropped image\n",
    "            image_path = os.path.join(page_dir, f\"image_{i + 1}.jpg\")\n",
    "            cropped_image.save(image_path)\n",
    "\n",
    "# Example usage\n",
    "pdf_path = 'OCR_SANTOSH/291169012_suoypoa1rvi5puntbojalx12.pdf'\n",
    "output_dir = './output'\n",
    "min_crop_size = 300  # Minimum width and height for cropped images\n",
    "max_crop_size = 1000  # Maximum width and height for cropped images\n",
    "num_images_per_page = 10  # Number of random images to crop per page\n",
    "\n",
    "crop_random_images_from_pdf(pdf_path, output_dir, min_crop_size, max_crop_size, num_images_per_page)\n"
   ]
  },
  {
   "cell_type": "code",
   "execution_count": null,
   "metadata": {},
   "outputs": [],
   "source": []
  },
  {
   "cell_type": "code",
   "execution_count": null,
   "metadata": {},
   "outputs": [],
   "source": [
    "import cv2\n",
    "import numpy as np\n",
    "\n",
    "def is_completely_white(image_path):\n",
    "    # Read the image using OpenCV\n",
    "    image = cv2.imread(image_path)\n",
    "\n",
    "    # Convert the image to grayscale\n",
    "    # gray_image = cv2.cvtColor(image, cv2.COLOR_BGR2GRAY)\n",
    "\n",
    "    # Calculate the mean value of the grayscale image\n",
    "    mean_value = np.mean(image)\n",
    "    if mean_value == 255 or mean_value == 254:\n",
    "        return True\n",
    "    else:\n",
    "        return False\n",
    "image_path = \"/home/ubuntu/ritesh_manchikanti/pdf-extractor-api/img/borderless_table/image10.png\"\n",
    "is_white = is_completely_white(image_path)\n",
    "print(\"Is completely white:\", is_white)"
   ]
  }
 ],
 "metadata": {
  "kernelspec": {
   "display_name": "Python 3 (ipykernel)",
   "language": "python",
   "name": "python3"
  },
  "language_info": {
   "codemirror_mode": {
    "name": "ipython",
    "version": 3
   },
   "file_extension": ".py",
   "mimetype": "text/x-python",
   "name": "python",
   "nbconvert_exporter": "python",
   "pygments_lexer": "ipython3",
   "version": "3.10.10"
  },
  "orig_nbformat": 4,
  "vscode": {
   "interpreter": {
    "hash": "2d58e898dde0263bc564c6968b04150abacfd33eed9b19aaa8e45c040360e146"
   }
  }
 },
 "nbformat": 4,
 "nbformat_minor": 2
}
