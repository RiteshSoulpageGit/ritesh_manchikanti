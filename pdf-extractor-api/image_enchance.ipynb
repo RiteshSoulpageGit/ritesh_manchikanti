{
 "cells": [
  {
   "cell_type": "code",
   "execution_count": 4,
   "metadata": {},
   "outputs": [],
   "source": [
    "from PIL import Image\n",
    "from PIL import ImageEnhance\n",
    "from PIL import ImageFilter\n",
    "\n",
    "# Load the image\n",
    "image = Image.open(\"/home/ubuntu/ritesh_manchikanti/pdf-extractor-api/image.png\").convert(\"L\")  # Convert to grayscale\n",
    "\n",
    "# Apply sharpening filter\n",
    "sharpened_image = image.filter(ImageFilter.SHARPEN)\n",
    "\n",
    "# Enhance contrast\n",
    "enhancer = ImageEnhance.Contrast(sharpened_image)\n",
    "contrast_enhanced_image = enhancer.enhance(1.5)  # Adjust the enhancement factor as needed\n",
    "\n",
    "# Save the processed image\n",
    "contrast_enhanced_image.save(\"./output_image.png\")\n"
   ]
  },
  {
   "cell_type": "code",
   "execution_count": 6,
   "metadata": {},
   "outputs": [
    {
     "name": "stdout",
     "output_type": "stream",
     "text": [
      "created a new folder\n"
     ]
    }
   ],
   "source": [
    "import os\n",
    "last_folder_num = 0\n",
    "existing_folders = [folder for folder in os.listdir(\"./img\") if folder.startswith(\"images\")]\n",
    "if existing_folders:\n",
    "    last_folder = max(existing_folders, key=lambda x: int(x.split(\"_\")[1]))\n",
    "    last_folder_num = int(last_folder.split(\"_\")[1])\n",
    "# Increment the folder number\n",
    "new_folder_num = last_folder_num + 1\n",
    "new_folder_path = f\"./img/images_{new_folder_num}\"\n",
    "\n",
    "# Create the new folder if it doesn't exist\n",
    "if not os.path.exists(new_folder_path):\n",
    "    os.makedirs(new_folder_path)\n",
    "    print(\"created a new folder\")\n",
    "    \n",
    "image = Image.fromarray(table_img)\n",
    "            # Save the image with an iterative name\n",
    "image.save(os.path.join(new_folder_path, f\"image{num}.png\"))"
   ]
  },
  {
   "cell_type": "code",
   "execution_count": null,
   "metadata": {},
   "outputs": [],
   "source": []
  }
 ],
 "metadata": {
  "kernelspec": {
   "display_name": "Python 3.10.10 ('pytorch')",
   "language": "python",
   "name": "python3"
  },
  "language_info": {
   "codemirror_mode": {
    "name": "ipython",
    "version": 3
   },
   "file_extension": ".py",
   "mimetype": "text/x-python",
   "name": "python",
   "nbconvert_exporter": "python",
   "pygments_lexer": "ipython3",
   "version": "3.10.10"
  },
  "orig_nbformat": 4,
  "vscode": {
   "interpreter": {
    "hash": "2d58e898dde0263bc564c6968b04150abacfd33eed9b19aaa8e45c040360e146"
   }
  }
 },
 "nbformat": 4,
 "nbformat_minor": 2
}
