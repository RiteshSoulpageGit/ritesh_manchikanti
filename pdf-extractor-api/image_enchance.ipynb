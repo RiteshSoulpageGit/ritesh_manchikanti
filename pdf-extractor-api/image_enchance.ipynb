{
 "cells": [
  {
   "cell_type": "code",
   "execution_count": 2,
   "metadata": {},
   "outputs": [],
   "source": [
    "from PIL import Image\n",
    "from PIL import ImageEnhance\n",
    "from PIL import ImageFilter\n",
    "\n",
    "# Load the image\n",
    "\n",
    "image = Image.open(\"./output.png\").convert(\"L\")  # Convert to grayscale\n",
    "\n",
    "# Apply sharpening filter\n",
    "sharpened_image = image.filter(ImageFilter.SHARPEN)\n",
    "\n",
    "# Enhance contrast\n",
    "enhancer = ImageEnhance.Contrast(sharpened_image)\n",
    "contrast_enhanced_image = enhancer.enhance(1.5)  # Adjust the enhancement factor as needed\n",
    "\n",
    "# Save the processed image\n",
    "contrast_enhanced_image.save(\"./output_image.png\")\n"
   ]
  },
  {
   "cell_type": "code",
   "execution_count": 12,
   "metadata": {},
   "outputs": [
    {
     "data": {
      "text/plain": [
       "True"
      ]
     },
     "execution_count": 12,
     "metadata": {},
     "output_type": "execute_result"
    }
   ],
   "source": [
    "import cv2\n",
    "import numpy as np\n",
    "\n",
    "def preprocess_image(image):\n",
    "    # Denoising\n",
    "    denoised = cv2.medianBlur(image, 5)\n",
    "    \n",
    "    # Sharpening\n",
    "    blurred = cv2.GaussianBlur(image, (0, 0), 3)\n",
    "    sharpened = cv2.addWeighted(image, 1.5, blurred, -0.5, 0)\n",
    "    \n",
    "    # Contrast enhancement\n",
    "    lab = cv2.cvtColor(sharpened, cv2.COLOR_BGR2LAB)\n",
    "    lab_planes = list(cv2.split(lab))  # Convert to list\n",
    "    clahe = cv2.createCLAHE(clipLimit=2.0, tileGridSize=(8, 8))\n",
    "    lab_planes[0] = clahe.apply(lab_planes[0])\n",
    "    lab = cv2.merge(lab_planes)\n",
    "    enhanced = cv2.cvtColor(lab, cv2.COLOR_LAB2BGR)\n",
    "    \n",
    "    # # Binarization\n",
    "    # gray = cv2.cvtColor(enhanced, cv2.COLOR_BGR2GRAY)\n",
    "    # _, binary = cv2.threshold(gray, 0, 255, cv2.THRESH_BINARY_INV + cv2.THRESH_OTSU)\n",
    "    \n",
    "    # # Morphological operations\n",
    "    # kernel = cv2.getStructuringElement(cv2.MORPH_RECT, (3, 3))\n",
    "    # opened = cv2.morphologyEx(binary, cv2.MORPH_OPEN, kernel, iterations=1)\n",
    "    # closed = cv2.morphologyEx(opened, cv2.MORPH_CLOSE, kernel, iterations=1)\n",
    "    \n",
    "    # # Deskewing\n",
    "    # coords = np.column_stack(np.where(closed > 0))\n",
    "    # angle = cv2.minAreaRect(coords)[-1]\n",
    "    # if angle < -45:\n",
    "    #     angle = -(90 + angle)\n",
    "    # else:\n",
    "    #     angle = -angle\n",
    "    # (h, w) = closed.shape[:2]\n",
    "    # center = (w // 2, h // 2)\n",
    "    # rotation_matrix = cv2.getRotationMatrix2D(center, angle, 1.0)\n",
    "    # deskewed = cv2.warpAffine(closed, rotation_matrix, (w, h), flags=cv2.INTER_CUBIC, borderMode=cv2.BORDER_REPLICATE)\n",
    "    \n",
    "    return enhanced\n",
    "\n",
    "# Load the input image\n",
    "image = cv2.imread(\"./output.png\")\n",
    "\n",
    "# Preprocess the image\n",
    "preprocessed_image = preprocess_image(image)\n",
    "\n",
    "# Save the preprocessed image\n",
    "cv2.imwrite(\"./output_image.png\", preprocessed_image)\n"
   ]
  },
  {
   "cell_type": "code",
   "execution_count": 6,
   "metadata": {},
   "outputs": [
    {
     "name": "stdout",
     "output_type": "stream",
     "text": [
      "created a new folder\n"
     ]
    }
   ],
   "source": [
    "import os\n",
    "last_folder_num = 0\n",
    "existing_folders = [folder for folder in os.listdir(\"./img\") if folder.startswith(\"images\")]\n",
    "if existing_folders:\n",
    "    last_folder = max(existing_folders, key=lambda x: int(x.split(\"_\")[1]))\n",
    "    last_folder_num = int(last_folder.split(\"_\")[1])\n",
    "# Increment the folder number\n",
    "new_folder_num = last_folder_num + 1\n",
    "new_folder_path = f\"./img/images_{new_folder_num}\"\n",
    "\n",
    "# Create the new folder if it doesn't exist\n",
    "if not os.path.exists(new_folder_path):\n",
    "    os.makedirs(new_folder_path)\n",
    "    print(\"created a new folder\")\n",
    "    \n",
    "image = Image.fromarray(table_img)\n",
    "            # Save the image with an iterative name\n",
    "image.save(os.path.join(new_folder_path, f\"image{num}.png\"))"
   ]
  },
  {
   "cell_type": "code",
   "execution_count": null,
   "metadata": {},
   "outputs": [],
   "source": []
  }
 ],
 "metadata": {
  "kernelspec": {
   "display_name": "Python 3 (ipykernel)",
   "language": "python",
   "name": "python3"
  },
  "language_info": {
   "codemirror_mode": {
    "name": "ipython",
    "version": 3
   },
   "file_extension": ".py",
   "mimetype": "text/x-python",
   "name": "python",
   "nbconvert_exporter": "python",
   "pygments_lexer": "ipython3",
   "version": "3.10.10"
  },
  "orig_nbformat": 4,
  "vscode": {
   "interpreter": {
    "hash": "2d58e898dde0263bc564c6968b04150abacfd33eed9b19aaa8e45c040360e146"
   }
  }
 },
 "nbformat": 4,
 "nbformat_minor": 2
}
